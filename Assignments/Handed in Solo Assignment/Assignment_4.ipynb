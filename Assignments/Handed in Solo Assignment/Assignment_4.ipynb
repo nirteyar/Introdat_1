{
 "cells": [
  {
   "cell_type": "markdown",
   "id": "e9959f48",
   "metadata": {
    "deletable": false
   },
   "source": [
    "\n",
    "# Assignment 4 for Course 1MS041\n",
    "Make sure you pass the `# ... Test` cells and\n",
    " submit your solution notebook in the corresponding assignment on the course website. You can submit multiple times before the deadline and your highest score will be used."
   ]
  },
  {
   "cell_type": "markdown",
   "id": "b63d8b71",
   "metadata": {
    "deletable": false,
    "lx_assignment_number": "4",
    "lx_assignment_type": "ASSIGNMENT",
    "lx_assignment_type2print": "Assignment",
    "lx_problem_cell_type": "PROBLEM",
    "lx_problem_number": "1",
    "lx_problem_points": "24"
   },
   "source": [
    "---\n",
    "## Assignment 4, PROBLEM 1\n",
    "Maximum Points = 24"
   ]
  },
  {
   "cell_type": "markdown",
   "id": "04e1585d",
   "metadata": {
    "deletable": false,
    "lx_assignment_number": "4",
    "lx_assignment_type": "ASSIGNMENT",
    "lx_assignment_type2print": "Assignment",
    "lx_problem_cell_type": "PROBLEM",
    "lx_problem_number": "1",
    "lx_problem_points": "24"
   },
   "source": [
    "\n",
    "    This time the assignment only consists of one problem, but we will do a more comprehensive analysis instead.\n",
    "\n",
    "Consider the dataset `Corona_NLP_train.csv` that you can get from the course website [git](https://github.com/datascience-intro/1MS041-2024/blob/main/notebooks/data/Corona_NLP_train.csv). The data is \"Coronavirus tweets NLP - Text Classification\" that can be found on [kaggle](https://www.kaggle.com/datasets/datatattle/covid-19-nlp-text-classification). The data has several columns, but we will only be working with `OriginalTweet`and `Sentiment`.\n",
    "\n",
    "1. [3p] Load the data and filter out those tweets that have `Sentiment`=`Neutral`. Let $X$ represent the `OriginalTweet` and let \n",
    "    $$\n",
    "        Y = \n",
    "        \\begin{cases}\n",
    "        1 & \\text{if sentiment is towards positive}\n",
    "        \\\\\n",
    "        0 & \\text{if sentiment is towards negative}.\n",
    "        \\end{cases}\n",
    "    $$\n",
    "    Put the resulting arrays into the variables $X$ and $Y$. Split the data into three parts, train/test/validation where train is 60% of the data, test is 15% and validation is 25% of the data. Do not do this randomly, this is to make sure that we all did the same splits (we are in this case assuming the data is IID as presented in the dataset). That is [train,test,validation] is the splitting layout.\n",
    "\n",
    "2. [4p] There are many ways to solve this classification problem. The first main issue to resolve is to convert the $X$ variable to something that you can feed into a machine learning model. For instance, you can first use [`CountVectorizer`](https://scikit-learn.org/1.5/modules/generated/sklearn.feature_extraction.text.CountVectorizer.html) as the first step. The step that comes after should be a `LogisticRegression` model, but for this to work you need to put together the `CountVectorizer` and the `LogisticRegression` model into a [`Pipeline`](https://scikit-learn.org/1.5/modules/generated/sklearn.pipeline.Pipeline.html#sklearn.pipeline.Pipeline). Fill in the variable `model` such that it accepts the raw text as input and outputs a number $0$ or $1$, make sure that `model.predict_proba` works for this. **Hint: You might need to play with the parameters of LogisticRegression to get convergence, make sure that it doesn't take too long or the autograder might kill your code**\n",
    "3. [3p] Use your trained model and calculate the precision and recall on both classes. Fill in the corresponding variables with the answer.\n",
    "4. [3p] Let us now define a cost function\n",
    "    * A positive tweet that is classified as negative will have a cost of 1\n",
    "    * A negative tweet that is classified as positive will have a cost of 5\n",
    "    * Correct classifications cost 0\n",
    "    \n",
    "    complete filling the function `cost` to compute the cost of a prediction model under a certain prediction threshold (recall our precision recall lecture and the `predict_proba` function from trained models). \n",
    "\n",
    "5. [4p] Now, we wish to select the threshold of our classifier that minimizes the cost, fill in the selected threshold value in value `optimal_threshold`.\n",
    "6. [4p] With your newly computed threshold value, compute the cost of putting this model in production by computing the cost using the validation data. Also provide a confidence interval of the cost using Hoeffdings inequality with a 99% confidence.\n",
    "7. [3p] Let $t$ be the threshold you found and $f$ the model you fitted (one of the outputs of `predict_proba`), if we define the random variable\n",
    "    $$\n",
    "        C = (1-1_{f(X)\\geq t})Y+5(1-Y)1_{f(X) \\geq t}\n",
    "    $$\n",
    "    then $C$ denotes the cost of a randomly chosen tweet. In the previous step we estimated $\\mathbb{E}[C]$ using the empirical mean. However, since the threshold is chosen to minimize cost it is likely that $C=0$ or $C=1$ than $C=5$ as such it will have a low variance. Compute the empirical variance of $C$ on the validation set. What would be the confidence interval if we used Bennett's inequality instead of Hoeffding in point 6 but with the computed empirical variance as our guess for the variance?"
   ]
  },
  {
   "cell_type": "code",
   "execution_count": null,
   "id": "49e6fa33",
   "metadata": {
    "deletable": false,
    "lx_assignment_number": "4",
    "lx_assignment_type": "ASSIGNMENT",
    "lx_assignment_type2print": "Assignment",
    "lx_problem_cell_type": "PROBLEM",
    "lx_problem_number": "1",
    "lx_problem_points": "24"
   },
   "outputs": [
    {
     "name": "stdout",
     "output_type": "stream",
     "text": [
      "Training set: 20066 samples\n",
      "Testing set: 5017 samples\n",
      "Validation set: 8361 samples\n"
     ]
    }
   ],
   "source": [
    "import pandas as pd\n",
    "import numpy as np\n",
    "\n",
    "#Load\n",
    "file_path = 'data/Corona_NLP_train.csv'  # Adjust the path if necessary\n",
    "data = pd.read_csv(file_path, encoding='latin1')\n",
    "\n",
    "filtered_data = data[data['Sentiment'] != 'Neutral']\n",
    "X = filtered_data['OriginalTweet'].values\n",
    "Y = np.where(filtered_data['Sentiment'].str.contains('Positive'), 1, 0)\n",
    "\n",
    "n_samples = len(X)\n",
    "train_end = int(n_samples * 0.6)\n",
    "test_end = int(n_samples * 0.75)\n",
    "\n",
    "X_train = X[:train_end]\n",
    "Y_train = Y[:train_end]\n",
    "X_test = X[train_end:test_end]\n",
    "Y_test = Y[train_end:test_end]\n",
    "X_valid = X[test_end:]\n",
    "Y_valid = Y[test_end:]\n",
    "\n",
    "print(f\"Training set: {len(X_train)} samples\")\n",
    "print(f\"Testing set: {len(X_test)} samples\")\n",
    "print(f\"Validation set: {len(X_valid)} samples\")\n"
   ]
  },
  {
   "cell_type": "code",
   "execution_count": null,
   "id": "078fe203",
   "metadata": {
    "deletable": false,
    "lx_assignment_number": "4",
    "lx_assignment_type": "ASSIGNMENT",
    "lx_assignment_type2print": "Assignment",
    "lx_problem_cell_type": "PROBLEM",
    "lx_problem_number": "1",
    "lx_problem_points": "24"
   },
   "outputs": [
    {
     "name": "stdout",
     "output_type": "stream",
     "text": [
      "Sample Predicted Probabilities: [[0.87768301 0.12231699]\n",
      " [0.99712858 0.00287142]\n",
      " [0.03465924 0.96534076]\n",
      " [0.79880644 0.20119356]\n",
      " [0.43905477 0.56094523]]\n"
     ]
    }
   ],
   "source": [
    "from sklearn.feature_extraction.text import CountVectorizer\n",
    "from sklearn.linear_model import LogisticRegression\n",
    "from sklearn.pipeline import Pipeline\n",
    "\n",
    "model = Pipeline([\n",
    "    ('vectorizer', CountVectorizer()),\n",
    "    ('classifier', LogisticRegression(max_iter=200, solver='liblinear'))\n",
    "])\n",
    "\n",
    "model.fit(X_train, Y_train)\n",
    "sample_probs = model.predict_proba(X_test[:5])\n",
    "print(\"Sample Predicted Probabilities:\", sample_probs)\n"
   ]
  },
  {
   "cell_type": "code",
   "execution_count": null,
   "id": "ec6fd1d4",
   "metadata": {
    "deletable": false,
    "lx_assignment_number": "4",
    "lx_assignment_type": "ASSIGNMENT",
    "lx_assignment_type2print": "Assignment",
    "lx_problem_cell_type": "PROBLEM",
    "lx_problem_number": "1",
    "lx_problem_points": "24"
   },
   "outputs": [
    {
     "name": "stdout",
     "output_type": "stream",
     "text": [
      "Precision (Class 0): 0.8579595426561126\n",
      "Precision (Class 1): 0.8709442216551221\n",
      "Recall (Class 0): 0.8464208242950109\n",
      "Recall (Class 1): 0.8808997050147492\n"
     ]
    }
   ],
   "source": [
    "from sklearn.metrics import precision_score, recall_score\n",
    "\n",
    "Y_pred = model.predict(X_test)\n",
    "precision_0 = precision_score(Y_test, Y_pred, pos_label=0)\n",
    "precision_1 = precision_score(Y_test, Y_pred, pos_label=1)\n",
    "recall_0 = recall_score(Y_test, Y_pred, pos_label=0)\n",
    "recall_1 = recall_score(Y_test, Y_pred, pos_label=1)\n",
    "\n",
    "print(f\"Precision (Class 0): {precision_0}\")\n",
    "print(f\"Precision (Class 1): {precision_1}\")\n",
    "print(f\"Recall (Class 0): {recall_0}\")\n",
    "print(f\"Recall (Class 1): {recall_1}\")\n"
   ]
  },
  {
   "cell_type": "code",
   "execution_count": null,
   "id": "10698374",
   "metadata": {
    "deletable": false,
    "lx_assignment_number": "4",
    "lx_assignment_type": "ASSIGNMENT",
    "lx_assignment_type2print": "Assignment",
    "lx_problem_cell_type": "PROBLEM",
    "lx_problem_number": "1",
    "lx_problem_points": "24"
   },
   "outputs": [
    {
     "name": "stdout",
     "output_type": "stream",
     "text": [
      "Average Cost (Threshold=0.5): 0.4171815826190951\n"
     ]
    }
   ],
   "source": [
    "def cost(model, threshold, X, Y):\n",
    "    probabilities = model.predict_proba(X)[:, 1]\n",
    "    predictions = (probabilities >= threshold).astype(int)    \n",
    "    costs = np.where(\n",
    "        (predictions == 1) & (Y == 0), \n",
    "        5,\n",
    "        np.where(\n",
    "            (predictions == 0) & (Y == 1),\n",
    "            1,\n",
    "            0 \n",
    "        )\n",
    "    )\n",
    "    \n",
    "    return costs.mean()\n",
    "example_cost = cost(model, threshold=0.5, X=X_test, Y=Y_test)\n",
    "print(f\"Average Cost (Threshold=0.5): {example_cost}\")\n"
   ]
  },
  {
   "cell_type": "code",
   "execution_count": null,
   "id": "b21963ec",
   "metadata": {
    "deletable": false,
    "lx_assignment_number": "4",
    "lx_assignment_type": "ASSIGNMENT",
    "lx_assignment_type2print": "Assignment",
    "lx_problem_cell_type": "PROBLEM",
    "lx_problem_number": "1",
    "lx_problem_points": "24"
   },
   "outputs": [
    {
     "name": "stdout",
     "output_type": "stream",
     "text": [
      "Optimal Threshold: 0.8\n",
      "Cost at Optimal Threshold: 0.27267291209886385\n"
     ]
    }
   ],
   "source": [
    "thresholds = np.linspace(0, 1, 101)\n",
    "costs = [cost(model, threshold, X_test, Y_test) for threshold in thresholds]\n",
    "optimal_threshold_index = np.argmin(costs)\n",
    "optimal_threshold = thresholds[optimal_threshold_index]\n",
    "cost_at_optimal_threshold = costs[optimal_threshold_index]\n",
    "\n",
    "print(f\"Optimal Threshold: {optimal_threshold}\")\n",
    "print(f\"Cost at Optimal Threshold: {cost_at_optimal_threshold}\")\n"
   ]
  },
  {
   "cell_type": "code",
   "execution_count": null,
   "id": "79a1c5e6",
   "metadata": {
    "deletable": false,
    "lx_assignment_number": "4",
    "lx_assignment_type": "ASSIGNMENT",
    "lx_assignment_type2print": "Assignment",
    "lx_problem_cell_type": "PROBLEM",
    "lx_problem_number": "1",
    "lx_problem_points": "24"
   },
   "outputs": [
    {
     "name": "stdout",
     "output_type": "stream",
     "text": [
      "Cost at Optimal Threshold (Validation): 0.27747877048199976\n",
      "99% Confidence Interval: (0.25967857077556256, 0.29527897018843696)\n"
     ]
    }
   ],
   "source": [
    "import math\n",
    "\n",
    "cost_at_optimal_threshold_valid = cost(model, optimal_threshold, X_valid, Y_valid)\n",
    "n_valid = len(Y_valid)\n",
    "epsilon = math.sqrt((1 / (2 * n_valid)) * math.log(2 / 0.01))\n",
    "cost_interval_valid = (\n",
    "    cost_at_optimal_threshold_valid - epsilon,\n",
    "    cost_at_optimal_threshold_valid + epsilon\n",
    ")\n",
    "assert(type(cost_interval_valid) == tuple)\n",
    "assert(len(cost_interval_valid) == 2)\n",
    "\n",
    "print(f\"Cost at Optimal Threshold (Validation): {cost_at_optimal_threshold_valid}\")\n",
    "print(f\"99% Confidence Interval: {cost_interval_valid}\")\n"
   ]
  },
  {
   "cell_type": "code",
   "execution_count": null,
   "id": "e3bc0760",
   "metadata": {
    "deletable": false,
    "lx_assignment_number": "4",
    "lx_assignment_type": "ASSIGNMENT",
    "lx_assignment_type2print": "Assignment",
    "lx_problem_cell_type": "PROBLEM",
    "lx_problem_number": "1",
    "lx_problem_points": "24"
   },
   "outputs": [
    {
     "name": "stdout",
     "output_type": "stream",
     "text": [
      "Empirical Variance of C: 0.669407805320785\n",
      "Confidence Interval using Bennett's inequality: (0.24729531160092996, 0.30766222936306953)\n"
     ]
    }
   ],
   "source": [
    "probabilities_valid = model.predict_proba(X_valid)[:, 1]\n",
    "predictions_valid = (probabilities_valid >= optimal_threshold).astype(int)\n",
    "C = (1 - (predictions_valid)) * Y_valid + 5 * (1 - Y_valid) * predictions_valid\n",
    "\n",
    "variance_of_C = np.var(C, ddof=1) \n",
    "mean_C = np.mean(C)\n",
    "b = 5 \n",
    "n_valid = len(C)\n",
    "epsilon_bennett = math.sqrt((2 * variance_of_C * math.log(2 / 0.01)) / n_valid) + (b * math.log(2 / 0.01)) / (3 * n_valid)\n",
    "interval_of_C = (\n",
    "    mean_C - epsilon_bennett,\n",
    "    mean_C + epsilon_bennett\n",
    ")\n",
    "assert(type(interval_of_C) == tuple)\n",
    "assert(len(interval_of_C) == 2)\n",
    "\n",
    "print(f\"Empirical Variance of C: {variance_of_C}\")\n",
    "print(f\"Confidence Interval using Bennett's inequality: {interval_of_C}\")\n"
   ]
  }
 ],
 "metadata": {
  "kernelspec": {
   "display_name": "base",
   "language": "python",
   "name": "python3"
  },
  "language_info": {
   "codemirror_mode": {
    "name": "ipython",
    "version": 3
   },
   "file_extension": ".py",
   "mimetype": "text/x-python",
   "name": "python",
   "nbconvert_exporter": "python",
   "pygments_lexer": "ipython3",
   "version": "3.11.5"
  },
  "lx_assignment_number": 4,
  "lx_course_instance": "2024",
  "lx_course_name": "Introduction to Data Science",
  "lx_course_number": "1MS041"
 },
 "nbformat": 4,
 "nbformat_minor": 5
}
