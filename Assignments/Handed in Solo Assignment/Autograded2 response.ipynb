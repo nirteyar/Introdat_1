{
 "cells": [
  {
   "cell_type": "markdown",
   "id": "5358edf6",
   "metadata": {
    "deletable": false
   },
   "source": [
    "\n",
    "# Assignment 2 for Course 1MS041\n",
    "Make sure you pass the `# ... Test` cells and\n",
    " submit your solution notebook in the corresponding assignment on the course website. You can submit multiple times before the deadline and your highest score will be used."
   ]
  },
  {
   "cell_type": "markdown",
   "id": "5aec0bfa",
   "metadata": {
    "deletable": false,
    "lx_assignment_number": "2",
    "lx_assignment_type": "ASSIGNMENT",
    "lx_assignment_type2print": "Assignment",
    "lx_problem_cell_type": "PROBLEM",
    "lx_problem_number": "1",
    "lx_problem_points": "8"
   },
   "source": [
    "---\n",
    "## Assignment 2, PROBLEM 1\n",
    "Maximum Points = 8"
   ]
  },
  {
   "cell_type": "markdown",
   "id": "db58f10b",
   "metadata": {
    "deletable": false,
    "lx_assignment_number": "2",
    "lx_assignment_type": "ASSIGNMENT",
    "lx_assignment_type2print": "Assignment",
    "lx_problem_cell_type": "PROBLEM",
    "lx_problem_number": "1",
    "lx_problem_points": "8"
   },
   "source": [
    "\n",
    "A courier company operates a fleet of delivery trucks that make deliveries to different parts of the city. The trucks are equipped with GPS tracking devices that record the location of each truck at regular intervals. The locations are divided into three regions: downtown, the suburbs, and the countryside. The following table shows the probabilities of a truck transitioning between these regions at each time step:\n",
    "\n",
    "| Current region | Probability of transitioning to downtown | Probability of transitioning to the suburbs | Probability of transitioning to the countryside |\n",
    "|----------------|--------------------------------------------|-----------------------------------------------|------------------------------------------------|\n",
    "| Downtown       | 0.3                                      | 0.4                                           | 0.3                                            |\n",
    "| Suburbs        | 0.2                                      | 0.5                                           | 0.3                                            |\n",
    "| Countryside    | 0.4                                      | 0.3                                           | 0.3                                            |\n",
    "\n",
    "1. If a truck is currently in the suburbs, what is the probability that it will be in the downtown region after two time steps? [1.5p]\n",
    "2. If a truck is currently in the suburbs, what is the probability that it will be in the downtown region **the first time** after two time steps? [1.5p]\n",
    "3. Is this Markov chain irreducible? [1.5p]\n",
    "4. What is the stationary distribution? [1.5p]\n",
    "5. Advanced question: What is the expected number of steps until the first time one enters the downtown region having started in the suburbs region. Hint: to get within 1 decimal point, it is enough to compute the probabilities for hitting times below 30. [2p]\n",
    "\n"
   ]
  },
  {
   "cell_type": "code",
   "execution_count": 1,
   "id": "2c601f0f",
   "metadata": {
    "deletable": false,
    "execution": {
     "iopub.execute_input": "2024-11-05T01:30:35.825015Z",
     "iopub.status.busy": "2024-11-05T01:30:35.823947Z",
     "iopub.status.idle": "2024-11-05T01:30:35.845294Z",
     "shell.execute_reply": "2024-11-05T01:30:35.843766Z"
    },
    "lx_assignment_number": "2",
    "lx_assignment_type": "ASSIGNMENT",
    "lx_assignment_type2print": "Assignment",
    "lx_problem_cell_type": "PROBLEM",
    "lx_problem_number": "1",
    "lx_problem_points": "8"
   },
   "outputs": [],
   "source": [
    "# Part 1\n",
    "\n",
    "# Fill in the answer to part 1 below as a decimal number\n",
    "problem1_p1 = 0.28"
   ]
  },
  {
   "cell_type": "code",
   "execution_count": 2,
   "id": "52a172dc",
   "metadata": {
    "deletable": false,
    "execution": {
     "iopub.execute_input": "2024-11-05T01:30:35.853177Z",
     "iopub.status.busy": "2024-11-05T01:30:35.852436Z",
     "iopub.status.idle": "2024-11-05T01:30:35.859840Z",
     "shell.execute_reply": "2024-11-05T01:30:35.858180Z"
    },
    "lx_assignment_number": "2",
    "lx_assignment_type": "ASSIGNMENT",
    "lx_assignment_type2print": "Assignment",
    "lx_problem_cell_type": "PROBLEM",
    "lx_problem_number": "1",
    "lx_problem_points": "8"
   },
   "outputs": [],
   "source": [
    "# Part 2\n",
    "\n",
    "# Fill in the answer to part 2 below as a decimal number\n",
    "problem1_p2 = 0.22"
   ]
  },
  {
   "cell_type": "code",
   "execution_count": 3,
   "id": "a3b3872d",
   "metadata": {
    "deletable": false,
    "execution": {
     "iopub.execute_input": "2024-11-05T01:30:35.868306Z",
     "iopub.status.busy": "2024-11-05T01:30:35.867533Z",
     "iopub.status.idle": "2024-11-05T01:30:35.874581Z",
     "shell.execute_reply": "2024-11-05T01:30:35.872877Z"
    },
    "lx_assignment_number": "2",
    "lx_assignment_type": "ASSIGNMENT",
    "lx_assignment_type2print": "Assignment",
    "lx_problem_cell_type": "PROBLEM",
    "lx_problem_number": "1",
    "lx_problem_points": "8"
   },
   "outputs": [],
   "source": [
    "# Part 3\n",
    "\n",
    "# Fill in the answer to part 3 below as a boolean\n",
    "problem1_irreducible = True"
   ]
  },
  {
   "cell_type": "code",
   "execution_count": 4,
   "id": "1b9d0a00",
   "metadata": {
    "deletable": false,
    "execution": {
     "iopub.execute_input": "2024-11-05T01:30:35.880541Z",
     "iopub.status.busy": "2024-11-05T01:30:35.879899Z",
     "iopub.status.idle": "2024-11-05T01:30:36.028640Z",
     "shell.execute_reply": "2024-11-05T01:30:36.027860Z"
    },
    "lx_assignment_number": "2",
    "lx_assignment_type": "ASSIGNMENT",
    "lx_assignment_type2print": "Assignment",
    "lx_problem_cell_type": "PROBLEM",
    "lx_problem_number": "1",
    "lx_problem_points": "8"
   },
   "outputs": [],
   "source": [
    "# Part 4\n",
    "import numpy as np\n",
    "# Fill in the answer to part 4 below\n",
    "# the answer should be a numpy array of length 3\n",
    "# make sure that the entries sums to 1!\n",
    "problem1_stationary = np.array([0.289, 0.411, 0.3])"
   ]
  },
  {
   "cell_type": "code",
   "execution_count": 5,
   "id": "481625e3",
   "metadata": {
    "deletable": false,
    "execution": {
     "iopub.execute_input": "2024-11-05T01:30:36.032981Z",
     "iopub.status.busy": "2024-11-05T01:30:36.032535Z",
     "iopub.status.idle": "2024-11-05T01:30:36.036464Z",
     "shell.execute_reply": "2024-11-05T01:30:36.035721Z"
    },
    "lx_assignment_number": "2",
    "lx_assignment_type": "ASSIGNMENT",
    "lx_assignment_type2print": "Assignment",
    "lx_problem_cell_type": "PROBLEM",
    "lx_problem_number": "1",
    "lx_problem_points": "8"
   },
   "outputs": [],
   "source": [
    "# Part 5\n",
    "\n",
    "# Fill in the answer to part 5 below\n",
    "# That is, the expected number of steps as a decimal number\n",
    "problem1_ET = 21.4"
   ]
  },
  {
   "cell_type": "code",
   "execution_count": 6,
   "id": "bbc32c12",
   "metadata": {
    "deletable": false,
    "execution": {
     "iopub.execute_input": "2024-11-05T01:30:36.040672Z",
     "iopub.status.busy": "2024-11-05T01:30:36.040273Z",
     "iopub.status.idle": "2024-11-05T01:30:36.053752Z",
     "shell.execute_reply": "2024-11-05T01:30:36.052909Z"
    },
    "lx_assignment_number": "2",
    "lx_assignment_type": "ASSIGNMENT",
    "lx_assignment_type2print": "Assignment",
    "lx_problem_cell_type": "TEST",
    "lx_problem_number": "1",
    "lx_problem_points": "8",
    "lx_test_only": "True"
   },
   "outputs": [
    {
     "name": "stdout",
     "output_type": "stream",
     "text": [
      "Beginning tests for problem 1\n",
      "\n",
      "---------------------------------\n",
      "Beginning test for part1\n",
      "---------------------------------\n",
      "\n",
      "-----Beginning test------\n",
      "Your probability is correct!\n",
      "-----Ending test---------\n",
      "\n",
      "---------------------------------\n",
      "Beginning test for part2\n",
      "---------------------------------\n",
      "\n",
      "-----Beginning test------\n",
      "Your probability is correct!\n",
      "-----Ending test---------\n",
      "\n",
      "---------------------------------\n",
      "Beginning test for part3\n",
      "---------------------------------\n",
      "\n",
      "-----Beginning test------\n",
      "Your answer is correct\n",
      "-----Ending test---------\n",
      "\n",
      "---------------------------------\n",
      "Beginning test for part4\n",
      "---------------------------------\n",
      "\n",
      "-----Beginning test------\n",
      "Your stationary distribution is within distance 0.01 from the true stationary distribution\n",
      "-----Ending test---------\n",
      "\n",
      "---------------------------------\n",
      "Beginning test for part5\n",
      "---------------------------------\n",
      "\n",
      "-----Beginning test------\n",
      "\n",
      "You are not within 0.05 from the actual answer which is roughly 3\n",
      "You got 2.0 points deduction \n",
      "-----Ending test---------\n",
      "\n",
      "\n",
      "All tests complete, you got = 6 points\n",
      "The number of points you have scored for this problem is 6 out of 8\n",
      "The number of points you have accumulated thus far is   6 out of 8\n"
     ]
    }
   ],
   "source": [
    "# ASSIGNMENT 2, TEST 1, POINTS 8"
   ]
  },
  {
   "cell_type": "markdown",
   "id": "215a4c8b",
   "metadata": {
    "deletable": false,
    "lx_assignment_number": "2",
    "lx_assignment_type": "ASSIGNMENT",
    "lx_assignment_type2print": "Assignment",
    "lx_problem_cell_type": "PROBLEM",
    "lx_problem_number": "2",
    "lx_problem_points": "4"
   },
   "source": [
    "---\n",
    "## Assignment 2, PROBLEM 2\n",
    "Maximum Points = 4"
   ]
  },
  {
   "cell_type": "markdown",
   "id": "d9a825d1",
   "metadata": {
    "deletable": false,
    "lx_assignment_number": "2",
    "lx_assignment_type": "ASSIGNMENT",
    "lx_assignment_type2print": "Assignment",
    "lx_problem_cell_type": "PROBLEM",
    "lx_problem_number": "2",
    "lx_problem_points": "4"
   },
   "source": [
    "\n",
    "Use the **Multi-dimensional Constrained Optimisation** example (in `07-Optimization.ipynb`) to numerically find the MLe for the mean and variance parameter based on `normallySimulatedDataSamples`, an array obtained by a specific simulation of $30$ IID samples from the $Normal(10,2)$ random variable.\n",
    "\n",
    "Recall that $Normal(\\mu, \\sigma^2)$ RV has the probability density function given by:\n",
    "\n",
    "$$\n",
    "f(x ;\\mu, \\sigma) = \\displaystyle\\frac{1}{\\sigma\\sqrt{2\\pi}}\\exp\\left(\\frac{-1}{2\\sigma^2}(x-\\mu)^2\\right)\n",
    "$$\n",
    "\n",
    "The two parameters, $\\mu \\in \\mathbb{R} := (-\\infty,\\infty)$ and $\\sigma \\in (0,\\infty)$, are sometimes referred to as the location and scale parameters.\n",
    "\n",
    "You know that the log likelihood function for $n$ IID samples from a Normal RV with parameters $\\mu$ and $\\sigma$ simply follows from $\\sum_{i=1}^n \\log(f(x_i; \\mu,\\sigma))$, based on the IID assumption. \n",
    "\n",
    "NOTE: When setting bounding boxes for $\\mu$ and $\\sigma$ try to start with some guesses like $[-20,20]$ and $[0.1,5.0]$ and make it larger if the solution is at the boundary. Making the left bounding-point for $\\sigma$ too close to $0.0$ will cause division by zero Warnings. Other numerical instabilities can happen in such iterative numerical solutions to the MLe. You need to be patient and learn by trial-and-error. You will see the mathematical theory in more details in a future course in scientific computing/optimisation. So don't worry too much now except learning to use it for our problems.  "
   ]
  },
  {
   "cell_type": "code",
   "execution_count": 7,
   "id": "699b52ca",
   "metadata": {
    "deletable": false,
    "execution": {
     "iopub.execute_input": "2024-11-05T01:30:36.059680Z",
     "iopub.status.busy": "2024-11-05T01:30:36.059297Z",
     "iopub.status.idle": "2024-11-05T01:30:36.236629Z",
     "shell.execute_reply": "2024-11-05T01:30:36.235749Z"
    },
    "lx_assignment_number": "2",
    "lx_assignment_type": "ASSIGNMENT",
    "lx_assignment_type2print": "Assignment",
    "lx_problem_cell_type": "PROBLEM",
    "lx_problem_number": "2",
    "lx_problem_points": "4"
   },
   "outputs": [
    {
     "data": {
      "text/plain": [
       "      fun: 58.631387282477526\n",
       " hess_inv: <2x2 LbfgsInvHessProduct with dtype=float64>\n",
       "      jac: array([ 9.94759748e-06, -6.60804748e-05])\n",
       "  message: 'CONVERGENCE: REL_REDUCTION_OF_F_<=_FACTR*EPSMCH'\n",
       "     nfev: 27\n",
       "      nit: 5\n",
       "     njev: 9\n",
       "   status: 0\n",
       "  success: True\n",
       "        x: array([9.26862058, 1.70819826])"
      ]
     },
     "execution_count": 7,
     "metadata": {},
     "output_type": "execute_result"
    }
   ],
   "source": [
    "import numpy as np\n",
    "from scipy import optimize\n",
    "\n",
    "# do NOT change the next three lines\n",
    "np.random.seed(123456)  # set seed\n",
    "# simulate 30 IID samples drawn from Normal(10,2)RV\n",
    "normallySimulatedDataSamples = np.random.normal(10, 2, 30)\n",
    "\n",
    "# Define the negative log likelihood function to minimize by editing XXX\n",
    "def negLogLklOfIIDNormalSamples(parameters):\n",
    "    '''return the -log(likelihood) of normallySimulatedDataSamples with mean and var parameters'''\n",
    "    mu_param = parameters[0]\n",
    "    sigma_param = parameters[1]\n",
    "    \n",
    "    # Ensure sigma is positive to avoid invalid log and division by zero\n",
    "    if sigma_param <= 0:\n",
    "        return np.inf  # Large penalty if sigma is non-positive\n",
    "\n",
    "    n = len(normallySimulatedDataSamples)\n",
    "    residuals = normallySimulatedDataSamples - mu_param\n",
    "    neg_log_likelihood = (n / 2) * np.log(2 * np.pi) + n * np.log(sigma_param) + (1 / (2 * sigma_param**2)) * np.sum(residuals**2)\n",
    "    \n",
    "    return neg_log_likelihood\n",
    "\n",
    "# Set the bounding box for parameters (mu, sigma)\n",
    "parameter_bounding_box = ((-20, 20), (0.1, 5.0))  # Bounds for mu and sigma\n",
    "# Initial guess for mu and sigma\n",
    "initial_arguments = np.array([10, 2])\n",
    "# Run the optimizer to minimize the negative log likelihood\n",
    "result_problem2_opt = optimize.minimize(\n",
    "    negLogLklOfIIDNormalSamples, \n",
    "    initial_arguments, \n",
    "    bounds=parameter_bounding_box,\n",
    "    method='L-BFGS-B'  # This method supports bounds\n",
    ")\n",
    "\n",
    "result_problem2_opt\n"
   ]
  },
  {
   "cell_type": "code",
   "execution_count": 8,
   "id": "f7852128",
   "metadata": {
    "deletable": false,
    "execution": {
     "iopub.execute_input": "2024-11-05T01:30:36.241197Z",
     "iopub.status.busy": "2024-11-05T01:30:36.240729Z",
     "iopub.status.idle": "2024-11-05T01:30:36.253771Z",
     "shell.execute_reply": "2024-11-05T01:30:36.252904Z"
    },
    "lx_assignment_number": "2",
    "lx_assignment_type": "ASSIGNMENT",
    "lx_assignment_type2print": "Assignment",
    "lx_problem_cell_type": "TEST",
    "lx_problem_number": "2",
    "lx_problem_points": "4",
    "lx_test_only": "True"
   },
   "outputs": [
    {
     "name": "stdout",
     "output_type": "stream",
     "text": [
      "Beginning tests for problem 2\n",
      "\n",
      "---------------------------------\n",
      "Beginning test for part1\n",
      "---------------------------------\n",
      "\n",
      "-----Beginning test------\n",
      "Your negative log likelihood is correct on the first hidden test sample\n",
      "-----Ending test---------\n",
      "\n",
      "-----Beginning test------\n",
      "Your negative log likelihood is correct on the second hidden test sample\n",
      "-----Ending test---------\n",
      "\n",
      "---------------------------------\n",
      "Beginning test for part2\n",
      "---------------------------------\n",
      "\n",
      "-----Beginning test------\n",
      "Your optimization converged\n",
      "-----Ending test---------\n",
      "\n",
      "-----Beginning test------\n",
      "Your MLE for the mean is correct\n",
      "-----Ending test---------\n",
      "\n",
      "-----Beginning test------\n",
      "Your MLE for the variance is correct\n",
      "-----Ending test---------\n",
      "\n",
      "\n",
      "All tests complete, you got = 4 points\n",
      "The number of points you have scored for this problem is 4 out of 4\n",
      "The number of points you have accumulated thus far is   10 out of 12\n"
     ]
    }
   ],
   "source": [
    "# ASSIGNMENT 2, TEST 2, POINTS 4"
   ]
  },
  {
   "cell_type": "markdown",
   "id": "f722d247",
   "metadata": {
    "deletable": false,
    "lx_assignment_number": "2",
    "lx_assignment_type": "ASSIGNMENT",
    "lx_assignment_type2print": "Assignment",
    "lx_problem_cell_type": "PROBLEM",
    "lx_problem_number": "3",
    "lx_problem_points": "4"
   },
   "source": [
    "---\n",
    "## Assignment 2, PROBLEM 3\n",
    "Maximum Points = 4"
   ]
  },
  {
   "cell_type": "markdown",
   "id": "0b9c787c",
   "metadata": {
    "deletable": false,
    "lx_assignment_number": "2",
    "lx_assignment_type": "ASSIGNMENT",
    "lx_assignment_type2print": "Assignment",
    "lx_problem_cell_type": "PROBLEM",
    "lx_problem_number": "3",
    "lx_problem_points": "4"
   },
   "source": [
    "\n",
    "\n",
    "Derive the maximum likelihood estimate for $n$ IID samples from a random variable with the following probability density function:\n",
    "$$\n",
    "f(x; \\lambda) = \\frac{1}{24} \\lambda^5 x^4 \\exp(-\\lambda x), \\qquad \\text{ where, } \\lambda>0, x > 0\n",
    "$$\n",
    "\n",
    "You can solve the MLe by hand (using pencil paper or using key-strokes). Present your solution as the return value of a function called `def MLeForAssignment2Problem3(x)`, where `x` is a list of $n$ input data points."
   ]
  },
  {
   "cell_type": "code",
   "execution_count": 9,
   "id": "41720f28",
   "metadata": {
    "deletable": false,
    "execution": {
     "iopub.execute_input": "2024-11-05T01:30:36.258051Z",
     "iopub.status.busy": "2024-11-05T01:30:36.257500Z",
     "iopub.status.idle": "2024-11-05T01:30:36.262101Z",
     "shell.execute_reply": "2024-11-05T01:30:36.261345Z"
    },
    "lx_assignment_number": "2",
    "lx_assignment_type": "ASSIGNMENT",
    "lx_assignment_type2print": "Assignment",
    "lx_problem_cell_type": "PROBLEM",
    "lx_problem_number": "3",
    "lx_problem_points": "4"
   },
   "outputs": [],
   "source": [
    "\n",
    "# do not change the name of the function, just replace XXX with the appropriate expressions for the MLe\n",
    "def MLeForAssignment2Problem3(x):\n",
    "    '''write comment of what this function does'''\n",
    "    n = len(x)\n",
    "    sum_x = sum(x)\n",
    "    lambda_mle = 5 * n / sum_x\n",
    "    return lambda_mle\n"
   ]
  },
  {
   "cell_type": "code",
   "execution_count": 10,
   "id": "041bb2fa",
   "metadata": {
    "deletable": false,
    "execution": {
     "iopub.execute_input": "2024-11-05T01:30:36.266495Z",
     "iopub.status.busy": "2024-11-05T01:30:36.265947Z",
     "iopub.status.idle": "2024-11-05T01:30:36.278197Z",
     "shell.execute_reply": "2024-11-05T01:30:36.277277Z"
    },
    "lx_assignment_number": "2",
    "lx_assignment_type": "ASSIGNMENT",
    "lx_assignment_type2print": "Assignment",
    "lx_problem_cell_type": "TEST",
    "lx_problem_number": "3",
    "lx_problem_points": "4",
    "lx_test_only": "True"
   },
   "outputs": [
    {
     "name": "stdout",
     "output_type": "stream",
     "text": [
      "Beginning tests for problem 2\n",
      "\n",
      "---------------------------------\n",
      "Beginning test for part1\n",
      "---------------------------------\n",
      "\n",
      "-----Beginning test------\n",
      "Your MLE is correct on a hidden test sample\n",
      "-----Ending test---------\n",
      "\n",
      "---------------------------------\n",
      "Beginning test for part2\n",
      "---------------------------------\n",
      "\n",
      "-----Beginning test------\n",
      "Your MLE is correct on a hidden test sample\n",
      "-----Ending test---------\n",
      "\n",
      "\n",
      "All tests complete, you got = 4 points\n",
      "The number of points you have scored for this problem is 4 out of 4\n",
      "The number of points you have accumulated thus far is   14 out of 16\n"
     ]
    }
   ],
   "source": [
    "# ASSIGNMENT 2, TEST 2, POINTS 4"
   ]
  },
  {
   "cell_type": "markdown",
   "id": "85367892",
   "metadata": {
    "deletable": false,
    "lx_assignment_number": "2",
    "lx_assignment_type": "ASSIGNMENT",
    "lx_assignment_type2print": "Assignment",
    "lx_problem_cell_type": "PROBLEM",
    "lx_problem_number": "4",
    "lx_problem_points": "8"
   },
   "source": [
    "---\n",
    "## Assignment 2, PROBLEM 4\n",
    "Maximum Points = 8"
   ]
  },
  {
   "cell_type": "markdown",
   "id": "2e67892b",
   "metadata": {
    "deletable": false,
    "lx_assignment_number": "2",
    "lx_assignment_type": "ASSIGNMENT",
    "lx_assignment_type2print": "Assignment",
    "lx_problem_cell_type": "PROBLEM",
    "lx_problem_number": "4",
    "lx_problem_points": "8"
   },
   "source": [
    "\n",
    "## Random variable generation and transformation\n",
    "\n",
    "The purpose of this problem is to show that you can implement your own sampler, this will be built in the following three steps:\n",
    "\n",
    "1. [2p] Implement a Linear Congruential Generator where you tested out a good combination (a large $M$ with $a,b$ satisfying the Hull-Dobell (Thm 6.8)) of parameters. Follow the instructions in the code block.\n",
    "2. [2p] Using a generator construct random numbers from the uniform $[0,1]$ distribution.\n",
    "3. [4p] Using a uniform $[0,1]$ random generator, generate samples from \n",
    "\n",
    "$$p_0(x) = \\frac{\\pi}{2}|\\sin(2\\pi x)|, \\quad x \\in [0,1] \\enspace .$$\n",
    "\n",
    "Using the **Accept-Reject** sampler (**Algorithm 1** in TFDS notes) with sampling density given by the uniform $[0,1]$ distribution."
   ]
  },
  {
   "cell_type": "code",
   "execution_count": 11,
   "id": "530446bc",
   "metadata": {
    "deletable": false,
    "execution": {
     "iopub.execute_input": "2024-11-05T01:30:36.283015Z",
     "iopub.status.busy": "2024-11-05T01:30:36.282600Z",
     "iopub.status.idle": "2024-11-05T01:30:36.288936Z",
     "shell.execute_reply": "2024-11-05T01:30:36.288042Z"
    },
    "lx_assignment_number": "2",
    "lx_assignment_type": "ASSIGNMENT",
    "lx_assignment_type2print": "Assignment",
    "lx_problem_cell_type": "PROBLEM",
    "lx_problem_number": "4",
    "lx_problem_points": "8"
   },
   "outputs": [],
   "source": [
    "def problem4_LCG(size=None, seed=0):\n",
    "    \"\"\"\n",
    "    A linear congruential generator that generates pseudo-random numbers according to size.\n",
    "    \n",
    "    Parameters\n",
    "    -------------\n",
    "    size : an integer denoting how many samples should be produced\n",
    "    seed : the starting point of the LCG, i.e. u0 in the notes.\n",
    "    \n",
    "    Returns\n",
    "    -------------\n",
    "    out : a list of the pseudo random numbers in [0, 1]\n",
    "    \"\"\"\n",
    "    \n",
    "    # Parameters for the LCG, satisfying Hull-Dobell Theorem\n",
    "    M = 2**31 - 1  # large prime modulus\n",
    "    a = 16807      # multiplier\n",
    "    b = 0          # increment\n",
    "    \n",
    "    # Initialize the list of random numbers and set the initial seed\n",
    "    random_numbers = []\n",
    "    u = seed\n",
    "    \n",
    "    # Generate 'size' numbers using the LCG formula\n",
    "    for _ in range(size):\n",
    "        u = (a * u + b) % M  # LCG recurrence\n",
    "        random_numbers.append(u / M)  # Normalize to [0, 1]\n",
    "    \n",
    "    return random_numbers\n"
   ]
  },
  {
   "cell_type": "code",
   "execution_count": 12,
   "id": "8d215c5a",
   "metadata": {
    "deletable": false,
    "execution": {
     "iopub.execute_input": "2024-11-05T01:30:36.293016Z",
     "iopub.status.busy": "2024-11-05T01:30:36.292637Z",
     "iopub.status.idle": "2024-11-05T01:30:36.298147Z",
     "shell.execute_reply": "2024-11-05T01:30:36.297470Z"
    },
    "lx_assignment_number": "2",
    "lx_assignment_type": "ASSIGNMENT",
    "lx_assignment_type2print": "Assignment",
    "lx_problem_cell_type": "PROBLEM",
    "lx_problem_number": "4",
    "lx_problem_points": "8"
   },
   "outputs": [],
   "source": [
    "def problem4_uniform(generator=None, period=1, size=None, seed=0):\n",
    "    \"\"\"\n",
    "    Takes a generator and produces samples from the uniform [0,1] distribution according\n",
    "    to size.\n",
    "    \n",
    "    Parameters\n",
    "    -------------\n",
    "    generator : a function of type generator(size, seed) and produces the same result as problem4_LCG, i.e., pseudo-random numbers in the range {0, 1, ..., period-1}\n",
    "    period : the period of the generator\n",
    "    seed : the seed to be used in the generator provided\n",
    "    size : an integer denoting how many samples should be produced\n",
    "    \n",
    "    Returns\n",
    "    --------------\n",
    "    out : a list of the uniform pseudo random numbers in [0, 1]\n",
    "    \"\"\"\n",
    "    \n",
    "    # Generate integer random numbers with the provided generator\n",
    "    integer_random_numbers = generator(size=size, seed=seed)\n",
    "    \n",
    "    # Normalize the generated integers to get uniform numbers in [0, 1]\n",
    "    uniform_random_numbers = [num / period for num in integer_random_numbers]\n",
    "    \n",
    "    return uniform_random_numbers\n"
   ]
  },
  {
   "cell_type": "code",
   "execution_count": 13,
   "id": "15832284",
   "metadata": {
    "deletable": false,
    "execution": {
     "iopub.execute_input": "2024-11-05T01:30:36.302400Z",
     "iopub.status.busy": "2024-11-05T01:30:36.302015Z",
     "iopub.status.idle": "2024-11-05T01:30:36.309994Z",
     "shell.execute_reply": "2024-11-05T01:30:36.309090Z"
    },
    "lx_assignment_number": "2",
    "lx_assignment_type": "ASSIGNMENT",
    "lx_assignment_type2print": "Assignment",
    "lx_problem_cell_type": "PROBLEM",
    "lx_problem_number": "4",
    "lx_problem_points": "8"
   },
   "outputs": [],
   "source": [
    "import numpy as np\n",
    "\n",
    "def problem4_accept_reject(uniformGenerator=None, n_iterations=None, seed=0):\n",
    "    \"\"\"\n",
    "    Takes a generator that produces uniform pseudo-random [0,1] numbers \n",
    "    and produces samples from (pi/2)*abs(sin(x*2*pi)) using an Accept-Reject\n",
    "    sampler with the uniform distribution as the proposal distribution.\n",
    "    Runs n_iterations.\n",
    "    \n",
    "    Parameters\n",
    "    -------------\n",
    "    uniformGenerator : a function of the type generator(size, seed) that produces uniform pseudo-random\n",
    "                       numbers from [0,1]\n",
    "    seed : the seed to be used in the generator provided\n",
    "    n_iterations : an integer denoting how many attempts should be made in the accept-reject sampler\n",
    "    \n",
    "    Returns\n",
    "    --------------\n",
    "    out : a list of the pseudo-random numbers with the specified distribution\n",
    "    \"\"\"\n",
    "    \n",
    "    # Set up maximum value of p_0(x)\n",
    "    M = np.pi / 2\n",
    "    \n",
    "    # Set the seed for reproducibility\n",
    "    np.random.seed(seed)\n",
    "    \n",
    "    # List to collect accepted samples\n",
    "    samples = []\n",
    "    \n",
    "    # Run the Accept-Reject sampling process\n",
    "    for _ in range(n_iterations):\n",
    "        # Generate candidate x from uniform [0, 1]\n",
    "        candidate_x = uniformGenerator(size=1, seed=np.random.randint(0, 10000))[0]\n",
    "        \n",
    "        # Generate y from uniform [0, M]\n",
    "        candidate_y = M * uniformGenerator(size=1, seed=np.random.randint(0, 10000))[0]\n",
    "        \n",
    "        # Calculate p_0(x) for the candidate x\n",
    "        p_x = (np.pi / 2) * abs(np.sin(2 * np.pi * candidate_x))\n",
    "        \n",
    "        # Accept or reject the candidate\n",
    "        if candidate_y <= p_x:\n",
    "            samples.append(candidate_x)\n",
    "    \n",
    "    return samples\n"
   ]
  },
  {
   "cell_type": "markdown",
   "id": "8dbf40a0",
   "metadata": {
    "deletable": false,
    "lx_assignment_number": "2",
    "lx_assignment_type": "ASSIGNMENT",
    "lx_assignment_type2print": "Assignment",
    "lx_problem_cell_type": "Test",
    "lx_problem_number": "4",
    "lx_problem_points": "8"
   },
   "source": [
    "---\n",
    "#### Local Test for Assignment 2, PROBLEM 4\n",
    "Evaluate cell below to make sure your answer is valid.                             You **should not** modify anything in the cell below when evaluating it to do a local test of                             your solution.\n",
    "You may need to include and evaluate code snippets from lecture notebooks in cells above to make the local test work correctly sometimes (see error messages for clues). This is meant to help you become efficient at recalling materials covered in lectures that relate to this problem. Such local tests will generally not be available in the exam."
   ]
  },
  {
   "cell_type": "code",
   "execution_count": 14,
   "id": "26cd1592",
   "metadata": {
    "deletable": false,
    "execution": {
     "iopub.execute_input": "2024-11-05T01:30:36.314586Z",
     "iopub.status.busy": "2024-11-05T01:30:36.314215Z",
     "iopub.status.idle": "2024-11-05T01:30:36.930043Z",
     "shell.execute_reply": "2024-11-05T01:30:36.929150Z"
    },
    "lx_assignment_number": "2",
    "lx_assignment_type": "ASSIGNMENT",
    "lx_assignment_type2print": "Assignment",
    "lx_problem_cell_type": "Test",
    "lx_problem_number": "4",
    "lx_problem_points": "8"
   },
   "outputs": [
    {
     "name": "stdout",
     "output_type": "stream",
     "text": [
      "LCG output: [7.826369259425611e-06, 0.13153778814316625, 0.7556053221950332, 0.4586501319234493, 0.5327672374121692, 0.21895918632809036, 0.04704461621448613, 0.678864716868319, 0.6792964058366122, 0.9346928959408276]\n"
     ]
    },
    {
     "ename": "NameError",
     "evalue": "name 'XXX' is not defined",
     "output_type": "error",
     "traceback": [
      "\u001b[0;31m---------------------------------------------------------------------------\u001b[0m",
      "\u001b[0;31mNameError\u001b[0m                                 Traceback (most recent call last)",
      "Input \u001b[0;32mIn [14]\u001b[0m, in \u001b[0;36m<cell line: 8>\u001b[0;34m()\u001b[0m\n\u001b[1;32m      1\u001b[0m \u001b[38;5;66;03m# If you managed to solve all three parts you can test the following code to see if it runs\u001b[39;00m\n\u001b[1;32m      2\u001b[0m \u001b[38;5;66;03m# you have to change the period to match your LCG though, this is marked as XXX.\u001b[39;00m\n\u001b[1;32m      3\u001b[0m \u001b[38;5;66;03m# It is a very good idea to check these things using the histogram function in sagemath\u001b[39;00m\n\u001b[1;32m      4\u001b[0m \u001b[38;5;66;03m# try with a larger number of samples, up to 10000 should run\u001b[39;00m\n\u001b[1;32m      6\u001b[0m \u001b[38;5;28mprint\u001b[39m(\u001b[38;5;124m\"\u001b[39m\u001b[38;5;124mLCG output: \u001b[39m\u001b[38;5;132;01m%s\u001b[39;00m\u001b[38;5;124m\"\u001b[39m \u001b[38;5;241m%\u001b[39m problem4_LCG(size\u001b[38;5;241m=\u001b[39m\u001b[38;5;241m10\u001b[39m, seed \u001b[38;5;241m=\u001b[39m \u001b[38;5;241m1\u001b[39m))\n\u001b[0;32m----> 8\u001b[0m period \u001b[38;5;241m=\u001b[39m \u001b[43mXXX\u001b[49m\n\u001b[1;32m     10\u001b[0m \u001b[38;5;28mprint\u001b[39m(\u001b[38;5;124m\"\u001b[39m\u001b[38;5;124mUniform sampler \u001b[39m\u001b[38;5;132;01m%s\u001b[39;00m\u001b[38;5;124m\"\u001b[39m \u001b[38;5;241m%\u001b[39m problem4_uniform(generator\u001b[38;5;241m=\u001b[39mproblem4_LCG, period \u001b[38;5;241m=\u001b[39m period, size\u001b[38;5;241m=\u001b[39m\u001b[38;5;241m10\u001b[39m, seed\u001b[38;5;241m=\u001b[39m\u001b[38;5;241m1\u001b[39m))\n\u001b[1;32m     12\u001b[0m uniform_sampler \u001b[38;5;241m=\u001b[39m \u001b[38;5;28;01mlambda\u001b[39;00m size,seed: problem4_uniform(generator\u001b[38;5;241m=\u001b[39mproblem4_LCG, period \u001b[38;5;241m=\u001b[39m period, size\u001b[38;5;241m=\u001b[39msize, seed\u001b[38;5;241m=\u001b[39mseed)\n",
      "\u001b[0;31mNameError\u001b[0m: name 'XXX' is not defined"
     ]
    }
   ],
   "source": [
    "\n",
    "# If you managed to solve all three parts you can test the following code to see if it runs\n",
    "# you have to change the period to match your LCG though, this is marked as XXX.\n",
    "# It is a very good idea to check these things using the histogram function in sagemath\n",
    "# try with a larger number of samples, up to 10000 should run\n",
    "\n",
    "print(\"LCG output: %s\" % problem4_LCG(size=10, seed = 1))\n",
    "\n",
    "period = XXX\n",
    "\n",
    "print(\"Uniform sampler %s\" % problem4_uniform(generator=problem4_LCG, period = period, size=10, seed=1))\n",
    "\n",
    "uniform_sampler = lambda size,seed: problem4_uniform(generator=problem4_LCG, period = period, size=size, seed=seed)\n",
    "\n",
    "print(\"Accept-Reject sampler %s\" % problem4_accept_reject(uniformGenerator = uniform_sampler,n_iterations=20,seed=1))"
   ]
  },
  {
   "cell_type": "code",
   "execution_count": 15,
   "id": "5318f370",
   "metadata": {
    "deletable": false,
    "execution": {
     "iopub.execute_input": "2024-11-05T01:30:36.933714Z",
     "iopub.status.busy": "2024-11-05T01:30:36.933384Z",
     "iopub.status.idle": "2024-11-05T01:30:36.939756Z",
     "shell.execute_reply": "2024-11-05T01:30:36.938921Z"
    },
    "lx_assignment_number": "2",
    "lx_assignment_type": "ASSIGNMENT",
    "lx_assignment_type2print": "Assignment",
    "lx_problem_cell_type": "Test",
    "lx_problem_number": "4",
    "lx_problem_points": "8"
   },
   "outputs": [
    {
     "name": "stdout",
     "output_type": "stream",
     "text": [
      "Accept-Reject sampler [0.34681819919543666, 0.6840807597768621, 0.7112329216829939, 0.4472134383484645, 0.4306555016160535, 0.7362574515465967, 0.8064626626086779, 0.3982697025447973, 0.9070912163239052, 0.09034095270802844]\n"
     ]
    }
   ],
   "source": [
    "\n",
    "# If however you did not manage to implement either part 1 or part 2 but still want to check part 3, you can run the code below\n",
    "\n",
    "def testUniformGenerator(size,seed):\n",
    "    import random\n",
    "    random.seed(seed)\n",
    "    \n",
    "    return [random.uniform(0,1) for s in range(size)]\n",
    "\n",
    "print(\"Accept-Reject sampler %s\" % problem4_accept_reject(uniformGenerator=testUniformGenerator, n_iterations=20, seed=1))"
   ]
  },
  {
   "cell_type": "code",
   "execution_count": 16,
   "id": "94e0e152",
   "metadata": {
    "deletable": false,
    "execution": {
     "iopub.execute_input": "2024-11-05T01:30:36.944931Z",
     "iopub.status.busy": "2024-11-05T01:30:36.944546Z",
     "iopub.status.idle": "2024-11-05T01:30:38.331862Z",
     "shell.execute_reply": "2024-11-05T01:30:38.331012Z"
    },
    "lx_assignment_number": "2",
    "lx_assignment_type": "ASSIGNMENT",
    "lx_assignment_type2print": "Assignment",
    "lx_problem_cell_type": "TEST",
    "lx_problem_number": "4",
    "lx_problem_points": "8",
    "lx_test_only": "True",
    "scrolled": true
   },
   "outputs": [
    {
     "data": {
      "image/png": "[encoded data removed]",
      "text/plain": [
       "<Figure size 432x288 with 1 Axes>"
      ]
     },
     "metadata": {
      "needs_background": "light"
     },
     "output_type": "display_data"
    },
    {
     "data": {
      "image/png": "[encoded data removed]",
      "text/plain": [
       "<Figure size 432x288 with 1 Axes>"
      ]
     },
     "metadata": {
      "needs_background": "light"
     },
     "output_type": "display_data"
    },
    {
     "name": "stdout",
     "output_type": "stream",
     "text": [
      "Beginning tests for problem 3\n",
      "\n",
      "---------------------------------\n",
      "Beginning test for part1\n",
      "---------------------------------\n",
      "\n",
      "-----Beginning test------\n",
      "LCG outputs correct size\n",
      "-----Ending test---------\n",
      "\n",
      "-----Beginning test------\n",
      "Your period is at least longer than 1000\n",
      "-----Ending test---------\n",
      "\n",
      "---------------------------------\n",
      "Beginning test for part2\n",
      "---------------------------------\n",
      "\n",
      "-----Beginning test------\n",
      "problem4_uniform outputs correct size\n",
      "-----Ending test---------\n",
      "\n",
      "-----Beginning test------\n",
      "The uniform sampler seems to produce the correct distribution, within tolerance!\n",
      "-----Ending test---------\n",
      "\n",
      "-----Beginning test------\n",
      "The output of problem4_uniform is greater than 0\n",
      "-----Ending test---------\n",
      "\n",
      "-----Beginning test------\n",
      "The output of problem4_uniform is less than 1\n",
      "-----Ending test---------\n",
      "\n",
      "---------------------------------\n",
      "Beginning test for part3\n",
      "---------------------------------\n",
      "\n",
      "-----Beginning test------\n",
      "name 'uniform_sampler' is not defined\n",
      "Your accept-reject generator is producing duplicate samples when doing 200 iterations\n",
      "You got 1.0 points deduction \n",
      "-----Ending test---------\n",
      "\n",
      "-----Beginning test------\n",
      "name 'uniform_sampler' is not defined\n",
      "The accept-reject sampler with your LCG sampler does not produce numbers between 0 and 1\n",
      "You got 0.5 points deduction \n",
      "-----Ending test---------\n",
      "\n",
      "-----Beginning test------\n",
      "The accept-reject sampler runs with a plug in sampler and produces numbers between 0 and 1\n",
      "-----Ending test---------\n",
      "\n",
      "-----Beginning test------\n",
      "\n",
      "Your accept-reject generator is producing duplicate samples, which it should not with my-plugin generator\n",
      "You got 1.0 points deduction \n",
      "-----Ending test---------\n",
      "\n",
      "-----Beginning test------\n",
      "The accept-reject sampler seems to produce the correct distribution, within tolerance!\n",
      "-----Ending test---------\n",
      "\n",
      "\n",
      "All tests complete, you got = 6 points\n",
      "The number of points you have scored for this problem is 6 out of 8\n",
      " \n",
      " \n",
      " \n",
      "The number of points you have scored in total for this entire set of Problems is 20 out of 24\n"
     ]
    }
   ],
   "source": [
    "# ASSIGNMENT 2, TEST 4, POINTS 8"
   ]
  },
  {
   "cell_type": "markdown",
   "id": "1a1d6d76",
   "metadata": {},
   "source": [
    "The number of points you have scored in total for this entire set of Problems is 20 out of 24."
   ]
  }
 ],
 "metadata": {
  "language_info": {
   "codemirror_mode": {
    "name": "ipython",
    "version": 3
   },
   "file_extension": ".py",
   "mimetype": "text/x-python",
   "name": "python",
   "nbconvert_exporter": "python",
   "pygments_lexer": "ipython3",
   "version": "3.9.12"
  },
  "lx_assignment_number": 2,
  "lx_course_instance": "2024",
  "lx_course_name": "Introduction to Data Science",
  "lx_course_number": "1MS041"
 },
 "nbformat": 4,
 "nbformat_minor": 5
}
