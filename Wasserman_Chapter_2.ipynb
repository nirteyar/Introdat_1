{
  "nbformat": 4,
  "nbformat_minor": 0,
  "metadata": {
    "colab": {
      "name": "Wasserman_Chapter_2.ipynb",
      "provenance": [],
      "collapsed_sections": [],
      "include_colab_link": true
    },
    "kernelspec": {
      "name": "python3",
      "display_name": "Python 3"
    }
  },
  "cells": [
    {
      "cell_type": "markdown",
      "metadata": {
        "id": "view-in-github",
        "colab_type": "text"
      },
      "source": [
        "<a href=\"https://colab.research.google.com/github/sajad13901/Statistics_Wasserman/blob/main/Wasserman_Chapter_2.ipynb\" target=\"_parent\"><img src=\"https://colab.research.google.com/assets/colab-badge.svg\" alt=\"Open In Colab\"/></a>"
      ]
    },
    {
      "cell_type": "code",
      "metadata": {
        "colab": {
          "base_uri": "https://localhost:8080/",
          "height": 265
        },
        "id": "cG2CIjrgiD8_",
        "outputId": "393d628e-aa36-4067-8ab7-6d4c2414afd5"
      },
      "source": [
        "#Chapter 2, problem 13\n",
        "import numpy as np\n",
        "import matplotlib.pyplot as plt\n",
        "\n",
        "x = np.random.normal(0, 1, 10000)\n",
        "y = np.exp(x)\n",
        "\n",
        "count, bins, ignored = plt.hist(y, 100, density=True)\n",
        "plt.show()"
      ],
      "execution_count": null,
      "outputs": [
        {
          "output_type": "display_data",
          "data": {
            "image/png": "[encoded data removed]",
            "text/plain": [
              "<Figure size 432x288 with 1 Axes>"
            ]
          },
          "metadata": {
            "tags": [],
            "needs_background": "light"
          }
        }
      ]
    },
    {
      "cell_type": "code",
      "metadata": {
        "id": "q6pCfF1D0UuA",
        "colab": {
          "base_uri": "https://localhost:8080/",
          "height": 265
        },
        "outputId": "037a9198-eb73-425b-a959-3f454ee97a8a"
      },
      "source": [
        "# Chapter 2, problem 15 \n",
        "import numpy as np\n",
        "import matplotlib.pyplot as plt\n",
        "\n",
        "beta = 1.0\n",
        "x = np.random.uniform(0, 1, 10000)\n",
        "z = -beta * np.log(1-x)\n",
        "y = np.random.exponential(beta, 10000)\n",
        "\n",
        "count, bins, ignored = plt.hist(y, 100, density=True, label='exp dist')\n",
        "count, bins, ignored = plt.hist(z, 100, density=True, label='model')\n",
        "plt.legend(loc='upper right')\n",
        "plt.show()\n"
      ],
      "execution_count": null,
      "outputs": [
        {
          "output_type": "display_data",
          "data": {
            "image/png": "[encoded data removed]",
            "text/plain": [
              "<Figure size 432x288 with 1 Axes>"
            ]
          },
          "metadata": {
            "tags": [],
            "needs_background": "light"
          }
        }
      ]
    },
    {
      "cell_type": "code",
      "metadata": {
        "colab": {
          "base_uri": "https://localhost:8080/"
        },
        "id": "apdbVYjZey6G",
        "outputId": "30850eb2-c197-42df-9fe6-2c6537d4a391"
      },
      "source": [
        "# chapter 2, problem 18\n",
        "import numpy as np\n",
        "import matplotlib.pyplot as plt\n",
        "\n",
        "mu = 3\n",
        "sigma = 4\n",
        "x = np.random.normal(mu, sigma, 10000)\n",
        "\n",
        "cnt = 0;\n",
        "for e in x:\n",
        "  if e < 7:\n",
        "    cnt += 1\n",
        "p = cnt/x.size\n",
        "print('a) probability of X < 7 is ', p)\n",
        "\n",
        "cnt = 0;\n",
        "for e in x:\n",
        "  if e > -2:\n",
        "    cnt += 1\n",
        "p = cnt/x.size\n",
        "print('b) probability of X > -2 is ', p)\n",
        "\n",
        "v = np.linspace(9, 10, num=1000)\n",
        "min_err = 1\n",
        "sol = mu\n",
        "for ev in v:\n",
        "  cnt = 0;\n",
        "  for ex in x:\n",
        "    if ex > ev:\n",
        "      cnt += 1\n",
        "  p = cnt/x.size\n",
        "  if (abs(p-0.05) < min_err):\n",
        "    min_err = abs(p-0.05)\n",
        "    sol = ev\n",
        "print('c) x value for probability of X > x being 0.05 is ', sol)\n",
        "\n",
        "cnt = 0;\n",
        "for e in x:\n",
        "  if (e > 0 and e < 4):\n",
        "    cnt += 1\n",
        "p = cnt/x.size\n",
        "print('d) probability of 0 < X < 4 is ', p)\n",
        "\n",
        "v = np.linspace(9, 10, num=1000)\n",
        "min_err = 1\n",
        "sol = mu\n",
        "for ev in v:\n",
        "  cnt = 0\n",
        "  for ex in x:\n",
        "    if abs(ex) > abs(ev):\n",
        "      cnt += 1\n",
        "  p = cnt/x.size\n",
        "  if (abs(p-0.05) < min_err):\n",
        "    min_err = abs(p-0.05)\n",
        "    sol = ev\n",
        "print('e) x value for probability of |X| > |x| being 0.05 is ', sol)\n"
      ],
      "execution_count": null,
      "outputs": [
        {
          "output_type": "stream",
          "text": [
            "a) probability of X < 7 is  0.8404\n",
            "b) probability of X > -2 is  0.8913\n",
            "c) x value for probability of X > x being 0.05 is  9.566566566566566\n",
            "d) probability of 0 < X < 4 is  0.3662\n",
            "e) x value for probability of |X| > |x| being 0.05 is  9.59059059059059\n"
          ],
          "name": "stdout"
        }
      ]
    }
  ]
}