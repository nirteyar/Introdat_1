{
  "nbformat": 4,
  "nbformat_minor": 0,
  "metadata": {
    "colab": {
      "name": "Wasserman_Chapter_1.ipynb",
      "provenance": [],
      "collapsed_sections": [],
      "include_colab_link": true
    },
    "kernelspec": {
      "name": "python3",
      "display_name": "Python 3"
    }
  },
  "cells": [
    {
      "cell_type": "markdown",
      "metadata": {
        "id": "view-in-github",
        "colab_type": "text"
      },
      "source": [
        "<a href=\"https://colab.research.google.com/github/sajad13901/Statistics_Wasserman/blob/main/Wasserman_Chapter_1.ipynb\" target=\"_parent\"><img src=\"https://colab.research.google.com/assets/colab-badge.svg\" alt=\"Open In Colab\"/></a>"
      ]
    },
    {
      "cell_type": "code",
      "metadata": {
        "colab": {
          "base_uri": "https://localhost:8080/",
          "height": 279
        },
        "id": "cG2CIjrgiD8_",
        "outputId": "fbcb4893-7fbc-45c1-8d16-2987e5973e6f"
      },
      "source": [
        "# Chapter 1, problem 21\n",
        "import numpy as np\n",
        "import matplotlib.pyplot as plt\n",
        "\n",
        "def toss(n, probHead):\n",
        "  frac = []\n",
        "  cnt = 0\n",
        "  for i in range(n):\n",
        "    res = np.random.choice(a = [1, 0], p = [probHead, 1-probHead])\n",
        "    if res == 1:\n",
        "      cnt += 1\n",
        "    frac.append(cnt/(i+1))  \n",
        "  return frac\n",
        "\n",
        "frac = toss(1000, .3)\n",
        "plt.plot(range(len(frac)), frac, 'o')\n",
        "plt.xlabel(\"iteration\")\n",
        "plt.ylabel(\"fraction of heads\")\n",
        "plt.show()\n"
      ],
      "execution_count": null,
      "outputs": [
        {
          "output_type": "display_data",
          "data": {
            "image/png": "[encoded data removed]",
            "text/plain": [
              "<Figure size 432x288 with 1 Axes>"
            ]
          },
          "metadata": {
            "needs_background": "light"
          }
        }
      ]
    },
    {
      "cell_type": "code",
      "metadata": {
        "colab": {
          "base_uri": "https://localhost:8080/"
        },
        "id": "Nt0bPnL8l7gf",
        "outputId": "5c72ee43-dc68-4492-e2e6-8f10dee0b197"
      },
      "source": [
        "# Chapter 1, problem 22\n",
        "import numpy as np\n",
        "\n",
        "def flip(numFlips, pHead):\n",
        "  cnt = 0\n",
        "  for i in range(numFlips): \n",
        "    if (1 == np.random.choice(a = [1, 0], p = [pHead,1-pHead])):\n",
        "      cnt += 1\n",
        "  return cnt \n",
        "\n",
        "def flipSim(numFlips, numTrials, pHead):\n",
        "  numHeads = []\n",
        "  for i in range(numTrials):\n",
        "    numHeads.append(flip(numFlips, pHead))\n",
        "  return sum(numHeads)/len(numHeads)\n",
        "\n",
        "probHead = 0.3\n",
        "nTrial = 50\n",
        "nFlips = 100\n",
        "res = flipSim(nFlips, nTrial, probHead)\n",
        "print(\"nTrial:\", nTrial, \" nFlips:\", nFlips, \" probHead: \", probHead, \" res: \", res)\n"
      ],
      "execution_count": null,
      "outputs": [
        {
          "output_type": "stream",
          "name": "stdout",
          "text": [
            "nTrial: 50  nFlips: 100  probHead:  0.3  res:  30.82\n"
          ]
        }
      ]
    },
    {
      "cell_type": "code",
      "metadata": {
        "id": "0naShQd8dwfs",
        "colab": {
          "base_uri": "https://localhost:8080/"
        },
        "outputId": "22b50f15-3b2a-4a98-c278-bac7f856177b"
      },
      "source": [
        "# Chapter 1, problem 23\n",
        "import numpy as np\n",
        "\n",
        "def flipDie(numFlips):\n",
        "  eventA = [2,4,6]\n",
        "  eventB = [1,2,3,4]\n",
        "  y = [0, 0, 0]\n",
        "  for i in range(numFlips):\n",
        "    res = np.random.choice(a = [1,2,3,4,5,6])\n",
        "    if (res in eventA):\n",
        "      y[0] += 1 \n",
        "    if (res in eventB):\n",
        "      y[1] += 1 \n",
        "    if (res in eventA and res in eventB):\n",
        "      y[2] += 1  \n",
        "  return y\n",
        "\n",
        "numFlips = 10000;\n",
        "y = flipDie(numFlips)\n",
        "print(\"pA =\", y[0]/numFlips, \" , pB =\", y[1]/numFlips)\n",
        "print(\"pA*pB =\", y[0]*y[1]/numFlips/numFlips, \" , pAB =\", y[2]/numFlips)\n"
      ],
      "execution_count": null,
      "outputs": [
        {
          "output_type": "stream",
          "name": "stdout",
          "text": [
            "pA = 0.5007  , pB = 0.6652\n",
            "pA*pB = 0.33306564  , pAB = 0.3323\n"
          ]
        }
      ]
    }
  ]
}