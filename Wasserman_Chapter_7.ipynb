{
  "nbformat": 4,
  "nbformat_minor": 0,
  "metadata": {
    "colab": {
      "name": "Wasserman_Chapter_7.ipynb",
      "provenance": [],
      "collapsed_sections": [],
      "include_colab_link": true
    },
    "kernelspec": {
      "name": "python3",
      "display_name": "Python 3"
    }
  },
  "cells": [
    {
      "cell_type": "markdown",
      "metadata": {
        "id": "view-in-github",
        "colab_type": "text"
      },
      "source": [
        "<a href=\"https://colab.research.google.com/github/sajad13901/Statistics_Wasserman/blob/main/Wasserman_Chapter_7.ipynb\" target=\"_parent\"><img src=\"https://colab.research.google.com/assets/colab-badge.svg\" alt=\"Open In Colab\"/></a>"
      ]
    },
    {
      "cell_type": "code",
      "metadata": {
        "colab": {
          "base_uri": "https://localhost:8080/",
          "height": 282
        },
        "id": "cG2CIjrgiD8_",
        "outputId": "68d03cfa-d25e-420d-bd7c-4fa2b8a92b91"
      },
      "source": [
        "# Chapter 7, problem 3, Normal distribution\n",
        "import numpy as np\n",
        "import matplotlib.pyplot as plt\n",
        "from scipy.stats import norm\n",
        "\n",
        "def ecdf(data, x_vec, alpha):\n",
        "    data_sort = np.sort(data)\n",
        "    n = data.size\n",
        "    eps = (np.log(2/alpha)/n/2) ** .5\n",
        "    F_hat = []\n",
        "    F_lower = []\n",
        "    F_upper = []\n",
        "    for e in x_vec:\n",
        "        if e >= data_sort[-1]:\n",
        "            tmp = 1\n",
        "        elif e < data_sort[0]:\n",
        "            tmp = 0\n",
        "        else:\n",
        "            idx = np.argwhere(np.array(data_sort) > e)[0][0]\n",
        "            tmp = idx/n\n",
        "        \n",
        "        F_hat.append(tmp)\n",
        "        F_lower.append(max(tmp-eps, 0))\n",
        "        F_upper.append(min(tmp+eps, 1))\n",
        "    return F_hat, F_lower, F_upper\n",
        "\n",
        "x_vec = np.linspace(norm.ppf(0.001), norm.ppf(0.999), 100)\n",
        "F_real = norm.cdf(x_vec)\n",
        "\n",
        "data = np.random.normal(0, 1, 100)\n",
        "F_hat, F_lower, F_upper = ecdf(data, x_vec, alpha = 0.05)\n",
        "\n",
        "plt.plot(x_vec, F_real, 'b-', lw=5, alpha=0.6, label='CDF formula')\n",
        "plt.plot(x_vec, F_hat, 'r.', lw=5, alpha=0.6, label='CDF emperical')\n",
        "plt.plot(x_vec, F_lower, 'g.', lw=5, alpha=0.6, label='lower')\n",
        "plt.plot(x_vec, F_upper, 'm.', lw=5, alpha=0.6, label='upper')\n",
        "plt.legend(loc='best')\n",
        "plt.show()\n",
        "\n",
        "cnt = 0\n",
        "sim_num = 1000\n",
        "for i in range(sim_num):\n",
        "    data = np.random.normal(0, 1, 100)\n",
        "    F_hat, F_lower, F_upper = ecdf(data, x_vec, alpha = 0.05)\n",
        "    for j in range(F_real.size):\n",
        "        if (F_real[j] > F_upper[j]) or (F_real[j] < F_lower[j]):\n",
        "            cnt += 1\n",
        "            break\n",
        "\n",
        "print('Normal dist. : percentage of times bounds dont contain true F: ', cnt/sim_num) \n"
      ],
      "execution_count": null,
      "outputs": [
        {
          "output_type": "display_data",
          "data": {
            "image/png": "[encoded data removed]",
            "text/plain": [
              "<Figure size 432x288 with 1 Axes>"
            ]
          },
          "metadata": {
            "needs_background": "light"
          }
        },
        {
          "output_type": "stream",
          "name": "stdout",
          "text": [
            "Normal dist. : percentage of times bounds dont contain true F:  0.033\n"
          ]
        }
      ]
    },
    {
      "cell_type": "code",
      "metadata": {
        "colab": {
          "base_uri": "https://localhost:8080/",
          "height": 282
        },
        "id": "VyzsVrLGuVUf",
        "outputId": "9a7ff04e-82de-4b72-be51-3d78e5f86403"
      },
      "source": [
        "# Chapter 7, problem 3, Cauchy distribution\n",
        "from scipy.stats import cauchy\n",
        "\n",
        "x_vec = np.linspace(cauchy.ppf(0.01), cauchy.ppf(0.99), 100)\n",
        "F_real = cauchy.cdf(x_vec)\n",
        "\n",
        "data = np.random.standard_cauchy(100)\n",
        "F_hat, F_lower, F_upper = ecdf(data, x_vec, alpha = 0.05)\n",
        "\n",
        "plt.plot(x_vec, F_real, 'b-', lw=5, alpha=0.6, label='Cauchy CDF')\n",
        "plt.plot(x_vec, F_hat, 'r.', lw=5, alpha=0.6, label='Cauchy CDF emperical')\n",
        "plt.plot(x_vec, F_lower, 'g.', lw=5, alpha=0.6, label='lower')\n",
        "plt.plot(x_vec, F_upper, 'm.', lw=5, alpha=0.6, label='upper')\n",
        "plt.legend(loc='best')\n",
        "plt.show()\n",
        "\n",
        "cnt = 0\n",
        "sim_num = 1000\n",
        "for i in range(sim_num):\n",
        "    data = np.random.standard_cauchy(100)\n",
        "    F_hat, F_lower, F_upper = ecdf(data, x_vec, alpha = 0.05)\n",
        "    for j in range(F_real.size):\n",
        "        if (F_real[j] > F_upper[j]) or (F_real[j] < F_lower[j]):\n",
        "            cnt += 1\n",
        "            break\n",
        "\n",
        "print('Cauchy dist. : percentage of times bounds dont contain true F: ', cnt/sim_num) \n"
      ],
      "execution_count": null,
      "outputs": [
        {
          "output_type": "display_data",
          "data": {
            "image/png": "[encoded data removed]",
            "text/plain": [
              "<Figure size 432x288 with 1 Axes>"
            ]
          },
          "metadata": {
            "needs_background": "light"
          }
        },
        {
          "output_type": "stream",
          "name": "stdout",
          "text": [
            "Cauchy dist. : percentage of times bounds dont contain true F:  0.012\n"
          ]
        }
      ]
    },
    {
      "cell_type": "code",
      "metadata": {
        "colab": {
          "base_uri": "https://localhost:8080/",
          "height": 282
        },
        "id": "mwSSpl7CuBd4",
        "outputId": "17fd7e99-79c7-4319-edff-7f80d0118523"
      },
      "source": [
        "# Chapter 7, problem 7\n",
        "from google.colab import files\n",
        "import numpy as np\n",
        "from scipy.stats import norm\n",
        "import pandas as pd\n",
        "import matplotlib.pyplot as plt\n",
        "\n",
        "# uploaded = files.upload()\n",
        "df = pd.read_csv('https://raw.githubusercontent.com/sajad13901/Statistics_Wasserman/main/fiji.txt', delimiter= '\\s+', index_col=False)\n",
        "\n",
        "def ecdf(data, x_vec, alpha):\n",
        "    data_sort = np.sort(data)\n",
        "    n = data.size\n",
        "    eps = (np.log(2/alpha)/n/2) ** .5\n",
        "    F_hat, F_lower, F_upper  = [], [], []\n",
        "    for e in x_vec:\n",
        "        if e >= data_sort[-1]: tmp = 1\n",
        "        elif e < data_sort[0]: tmp = 0\n",
        "        else:\n",
        "            idx = np.argwhere(np.array(data_sort) > e)[0][0]\n",
        "            tmp = idx/n        \n",
        "        F_hat.append(tmp)\n",
        "        F_lower.append(max(tmp-eps, 0))\n",
        "        F_upper.append(min(tmp+eps, 1))\n",
        "    return F_hat, F_lower, F_upper\n",
        "\n",
        "x_vec = np.linspace(3.5, 7, 100)\n",
        "data = df.mag\n",
        "F_hat, F_lower, F_upper = ecdf(data, x_vec, alpha = 0.05)\n",
        "\n",
        "plt.plot(x_vec, F_hat, 'r.', lw=5, alpha=0.6, label='CDF emperical')\n",
        "plt.plot(x_vec, F_lower, 'g.', lw=3, alpha=0.6, label='lower')\n",
        "plt.plot(x_vec, F_upper, 'b.', lw=3, alpha=0.6, label='upper')\n",
        "plt.legend(loc='best')\n",
        "plt.show()\n",
        "\n",
        "def calc_F_hat(data, x_val):\n",
        "    data_sort = np.sort(data)\n",
        "    if x_val >= data_sort[-1]: return 1\n",
        "    elif x_val < data_sort[0]: return 0\n",
        "    else:\n",
        "        idx = np.argwhere(np.array(data_sort) > x_val)[0][0]\n",
        "        return (idx/data.size)\n",
        "\n",
        "a, b = 4.3, 4.9\n",
        "theta_hat = calc_F_hat(data, b) - calc_F_hat(data, a) \n",
        "se = (theta_hat * (1-theta_hat)/data.size) ** .5\n",
        "z_95 = norm.ppf(.975)\n",
        "print('95% interval: ', round(theta_hat-z_95*se,3), ',', round(theta_hat+z_95*se,3))"
      ],
      "execution_count": null,
      "outputs": [
        {
          "output_type": "display_data",
          "data": {
            "image/png": "[encoded data removed]",
            "text/plain": [
              "<Figure size 432x288 with 1 Axes>"
            ]
          },
          "metadata": {
            "needs_background": "light"
          }
        },
        {
          "output_type": "stream",
          "name": "stdout",
          "text": [
            "95% interval:  0.495 , 0.557\n"
          ]
        }
      ]
    },
    {
      "cell_type": "code",
      "metadata": {
        "colab": {
          "base_uri": "https://localhost:8080/"
        },
        "id": "4uxH793d0gf3",
        "outputId": "044f2df3-4724-4129-c4ff-9426f3b2e99c"
      },
      "source": [
        "# Chapter 7, problem 8\n",
        "import pandas as pd\n",
        "from scipy.stats import norm\n",
        "from google.colab import files\n",
        "\n",
        "# uploaded = files.upload()\n",
        "df = pd.read_csv('https://raw.githubusercontent.com/sajad13901/Statistics_Wasserman/main/geyser.txt', delimiter= '\\s+', index_col=False)\n",
        "data = df.waiting\n",
        "n = len(data)\n",
        "\n",
        "theta = data.mean()\n",
        "se = data.std()\n",
        "z_90 = norm.ppf(0.95)\n",
        "\n",
        "print(\"estimated mean: %.3f , standard error: %.3f\" %(theta, se))\n",
        "print(\"90%% interval: (%.3f , %.3f)\" %(theta-z_90*se, theta+z_90*se))\n",
        "\n",
        "median = data.median()\n",
        "print(\"estimated median time: %.3f\" % median)"
      ],
      "execution_count": null,
      "outputs": [
        {
          "output_type": "stream",
          "name": "stdout",
          "text": [
            "estimated mean: 70.897 , standard error: 13.595\n",
            "90% interval: (48.535 , 93.259)\n",
            "estimated median time: 76.000\n"
          ]
        }
      ]
    },
    {
      "cell_type": "code",
      "metadata": {
        "colab": {
          "base_uri": "https://localhost:8080/"
        },
        "id": "nfVH9hCu_gpv",
        "outputId": "3527bf65-1c25-4641-be19-e764669af139"
      },
      "source": [
        "# Chapter 7, problem 10\n",
        "import pandas as pd\n",
        "from scipy.stats import norm\n",
        "from google.colab import files\n",
        "\n",
        "# uploaded = files.upload()\n",
        "df = pd.read_csv('https://raw.githubusercontent.com/sajad13901/Statistics_Wasserman/main/cloud.txt', delimiter= '\\s+', index_col=False)\n",
        "\n",
        "seed_data = df.Seeded_Clouds\n",
        "no_seed_data = df.Unseeded_Clouds\n",
        "n = len(seed_data)\n",
        "\n",
        "mean_seed = seed_data.mean()\n",
        "mean_noseed = no_seed_data.mean()\n",
        "theta_hat = mean_seed - mean_noseed\n",
        "\n",
        "se_hat_seed = seed_data.std()/n**0.5 \n",
        "se_hat_no_seed = no_seed_data.std()/n**0.5\n",
        "se_hat = (se_hat_seed**2 + se_hat_no_seed**2)**0.5\n",
        "\n",
        "z_95 = norm.ppf(0.975)\n",
        "print(\"estimated diff: %.3f\" % theta_hat)\n",
        "print(\"standard error: %.3f\" % se_hat)\n",
        "print(\"95%% confidence interval: (%.3f, %.3f)\" %(theta_hat-z_95*se_hat, theta_hat+z_95*se_hat))"
      ],
      "execution_count": null,
      "outputs": [
        {
          "output_type": "stream",
          "name": "stdout",
          "text": [
            "estimated diff: 277.396\n",
            "standard error: 138.820\n",
            "95% confidence interval: (5.314, 549.478)\n"
          ]
        }
      ]
    }
  ]
}