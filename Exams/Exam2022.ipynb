{
 "cells": [
  {
   "cell_type": "markdown",
   "metadata": {},
   "source": [
    "1 Exam 2021, 8.00-13.00 for the course 1MS041 (Introduction to\n",
    "Data Science / Introduktion till dataanalys)\n",
    "1.1 Instructions:\n",
    "1. Complete the problems by following instructions.\n",
    "2. When done, submit this file with your solutions saved, following the instruction sheet.\n",
    "This exam has 3 problems for a total of 40 points, to pass you need 20 points.\n",
    "1.2 Some general hints and information:\n",
    "• Try to answer all questions even if you are uncertain.\n",
    "• Comment your code, so that if you get the wrong answer I can understand how you thought\n",
    "this can give you some points even though the code does not run.\n",
    "• Follow the instruction sheet rigorously.\n",
    "• This exam is partially autograded, but your code and your free text answers are manually\n",
    "graded anonymously.\n",
    "• If there are any questions, please ask the exam guards, they will escalate it to me if necessary.\n",
    "• I (Benny) will visit the exam room at around 10:30 to see if there are any questions.\n",
    "1.3 Tips for free text answers\n",
    "• Be VERY clear with your reasoning, there should be zero ambiguity in what you are referring\n",
    "to.\n",
    "• If you want to include math, you can write LaTeX in the Markdown cells, for instance\n",
    "$f(x)=x^2$ will be rendered as 𝑓(𝑥) = 𝑥2 and $$f(x) = x^2$$ will become an equation\n",
    "line, as follows\n",
    "𝑓(𝑥) = 𝑥2\n",
    "Another example is $$f_{Y \\mid X}(y,x) = P(Y = y \\mid X = x) = \\exp(\\alpha\n",
    "\\cdot x + \\beta)$$ which renders as\n",
    "𝑓𝑌 ∣𝑋(𝑦, 𝑥) = 𝑃 (𝑌 = 𝑦 ∣ 𝑋 = 𝑥) = exp(𝛼 ⋅ 𝑥 + 𝛽)"
   ]
  },
  {
   "cell_type": "markdown",
   "metadata": {},
   "source": [
    "1.4 Finally some rules:\n",
    "• You may not communicate with others during the exam, for example:\n",
    "– You cannot ask for help in Stack-Overflow or other such help forums during the Exam.\n",
    "– You may not communicate with AI’s, for instance ChatGPT.\n",
    "– Your on-line and off-line activity is being monitored according to the examination rules.\n"
   ]
  },
  {
   "cell_type": "markdown",
   "metadata": {},
   "source": [
    "1.6 Exam vB, PROBLEM 1\n",
    "Maximum Points = 8\n",
    "1.7 Probability warmup\n",
    "Let’s say we have an exam question which consists of 20 yes/no questions. From past performance of\n",
    "similar students, a randomly chosen student will know the correct answer to 𝑁 ∼ binom(20, 11/20)\n",
    "questions. Furthermore, we assume that the student will guess the answer with equal probability\n",
    "to each question they don’t know the answer to, i.e. given 𝑁 we define 𝑍 ∼ binom(20 − 𝑁, 1/2) as\n",
    "the number of correctly guessed answers. Define 𝑌 = 𝑁 + 𝑍, i.e., 𝑌 represents the number of total\n",
    "correct answers.\n",
    "We are interested in setting a deterministic threshold 𝑇 , i.e., we would pass a student at threshold\n",
    "𝑇 if 𝑌 ≥ 𝑇 . Here 𝑇 ∈ {0, 1, 2, … , 20}.\n",
    "1. [5p] For each threshold 𝑇 , compute the probability that the student knows less than\n",
    "10 correct answers given that the student passed, i.e., 𝑁 < 10. Put the answer in\n",
    "problem11_probabilities as a list.\n",
    "2. [3p] What is the smallest value of 𝑇 such that if 𝑌 ≥ 𝑇 then we are 90% certain that 𝑁 ≥ 10?"
   ]
  },
  {
   "cell_type": "code",
   "execution_count": null,
   "metadata": {},
   "outputs": [],
   "source": [
    "# Hint the PMF of N is p_N(k) where p_N is\n",
    "p = 11/20\n",
    "p_N = lambda k: binomial(20,k)*(1-p)^(20-k)*(p)^k"
   ]
  },
  {
   "cell_type": "code",
   "execution_count": null,
   "metadata": {},
   "outputs": [],
   "source": [
    "# Part 1:\n",
    "# replace XXX to represent P(N < 10) for T = [0,1,2,...,20], i.e. your answer␣\n",
    "# should be a list\n",
    "# of length 21.\n",
    "problem11_probabilities = [XXX,XXX,...,XXX]\n"
   ]
  },
  {
   "cell_type": "code",
   "execution_count": null,
   "metadata": {},
   "outputs": [],
   "source": [
    "# Part 2: Give an integer between 0 and 20 which is the answer to 2.\n",
    "problem12_T = XXX"
   ]
  },
  {
   "cell_type": "markdown",
   "metadata": {},
   "source": [
    "1.8 Exam vB, PROBLEM 2\n",
    "Maximum Points = 8\n",
    "1.9 Random variable generation and transformation\n",
    "The purpose of this problem is to show that you can implement your own sampler, this will be\n",
    "built in the following three steps:\n"
   ]
  },
  {
   "cell_type": "markdown",
   "metadata": {},
   "source": [
    "1. [2p] Implement a Linear Congruential Generator where you tested out a good combination (a\n",
    "large 𝑀 with 𝑎, 𝑏 satisfying the Hull-Dobell (Thm 6.8)) of parameters. Follow the instructions\n",
    "in the code block.\n",
    "2. [2p] Using a generator construct random numbers from the uniform [0, 1] distribution.\n",
    "3. [4p] Using a uniform [0, 1] random generator, generate samples from\n",
    "𝑝0\n",
    "(𝑥) = 𝜋\n",
    "2\n",
    "|sin(2𝜋𝑥)|, 𝑥 ∈ [0, 1] .\n",
    "Using the Accept-Reject sampler (Algorithm 1 in TFDS notes) with sampling density given by\n",
    "the uniform [0, 1] distribution.\n"
   ]
  },
  {
   "cell_type": "code",
   "execution_count": null,
   "metadata": {},
   "outputs": [],
   "source": [
    " def problem2_LCG(size=None, seed = 0):\n",
    "\"\"\"\n",
    "A linear congruential generator that generates pseudo random numbers␣\n",
    "↪according to size.\n",
    "Parameters\n",
    "-------------\n",
    "size : an integer denoting how many samples should be produced\n",
    "seed : the starting point of the LCG, i.e. u0 in the notes.\n",
    "Returns\n",
    "-------------\n",
    "out : a list of the pseudo random numbers\n",
    "\"\"\"\n",
    "XXX\n",
    "return XXX"
   ]
  },
  {
   "cell_type": "code",
   "execution_count": null,
   "metadata": {},
   "outputs": [],
   "source": [
    "def problem2_uniform(generator=None, period = 1, size=None, seed=0):\n",
    "\"\"\"\n",
    "Takes a generator and produces samples from the uniform [0,1] distribution␣\n",
    "↪according\n",
    "to size.\n",
    "Parameters\n",
    "-------------\n",
    "generator : a function of type generator(size,seed) and produces the same␣\n",
    "↪result as problem2_LCG, i.e. pseudo random numbers in the range {0,1,...\n",
    "↪,period-1}\n",
    "period : the period of the generator\n",
    "seed : the seed to be used in the generator provided\n",
    "size : an integer denoting how many samples should be produced\n",
    "Returns\n",
    "--------------\n",
    "out : a list of the uniform pseudo random numbers\n",
    "\"\"\"\n",
    "XXX\n",
    "return XXX"
   ]
  },
  {
   "cell_type": "code",
   "execution_count": null,
   "metadata": {},
   "outputs": [],
   "source": [
    "def problem2_accept_reject(uniformGenerator=None, size=None, seed=0):\n",
    "\"\"\"\n",
    "Takes a generator that produces uniform pseudo random [0,1] numbers\n",
    "and produces samples from (pi/2)*abs(sin(x*2*pi)) using an Accept-Reject\n",
    "sampler with the uniform distribution as the proposal distribution\n",
    "Parameters\n",
    "-------------\n",
    "generator : a function of the type generator(size,seed) that produces␣\n",
    "↪uniform pseudo random\n",
    "numbers from [0,1]\n",
    "seed : the seed to be used in the generator provided\n",
    "size : an integer denoting how many samples should be produced\n",
    "Returns\n",
    "--------------\n",
    "out : a list of the pseudo random numbers with the specified distribution\n",
    "\"\"\"\n",
    "XXX\n",
    "return XXX"
   ]
  },
  {
   "cell_type": "markdown",
   "metadata": {},
   "source": [
    "Local Test for Exam vB, PROBLEM 2 Evaluate cell below to make sure your answer is\n",
    "valid. You should not modify anything in the cell below when evaluating it to do a local test of\n",
    "your solution. You may need to include and evaluate code snippets from lecture notebooks in cells\n",
    "above to make the local test work correctly sometimes (see error messages for clues). This is meant\n",
    "to help you become efficient at recalling materials covered in lectures that relate to this problem.\n",
    "Such local tests will generally not be available in the exam."
   ]
  },
  {
   "cell_type": "code",
   "execution_count": null,
   "metadata": {},
   "outputs": [],
   "source": [
    " # If you managed to solve all three parts you can test the following code to␣\n",
    "# see if it runs\n",
    "# you have to change the period to match your LCG though, this is marked as XXX.\n",
    "# It is a very good idea to check these things using the histogram function in␣\n",
    "# sagemath\n",
    "# try with a larger number of samples, up to 10000 should run\n",
    "print(\"LCG output: %s\" % problem2_LCG(size=10, seed = 1))\n",
    "period = XXX\n",
    "print(\"Uniform sampler %s\" % problem2_uniform(generator=problem2_LCG, period =␣\n",
    "↪period, size=10, seed=1))\n",
    "uniform_sampler = lambda size,seed: problem2_uniform(generator=problem2_LCG,␣\n",
    "↪period = period, size=size, seed=seed)\n",
    "print(\"Accept-Reject sampler %s\" % problem2_accept_reject(uniformGenerator =␣\n",
    "uniform_sampler,n_iterations=20,seed=1))\n"
   ]
  },
  {
   "cell_type": "code",
   "execution_count": null,
   "metadata": {},
   "outputs": [],
   "source": [
    "# If however you did not manage to implement either part 1 or part 2 but still␣\n",
    "# want to check part 3, you can run the code below\n",
    "def testUniformGenerator(size,seed):\n",
    "    set_random_seed(seed)\n",
    "    return [random() for s in range(size)]\n",
    "\n",
    "print(\"Accept-Reject sampler %s\" %problem2_accept_reject(uniformGenerator=testUniformGenerator,␣ n_iterations=20, seed=1))"
   ]
  },
  {
   "cell_type": "markdown",
   "metadata": {},
   "source": [
    "1.10 Exam vB, PROBLEM 3\n",
    "Maximum Points = 8\n",
    "1.11 Concentration of measure\n",
    "As you recall, we said that concentration of measure was simply the phenomenon where we expect\n",
    "that the probability of a large deviation of some quantity becoming smaller as we observe more\n",
    "samples: [0.4 points per correct answer]\n",
    "1. Which of the following will exponentially concentrate, i.e. for some $C_1,C_2,C_3,C_4 $\n",
    "𝑃 (𝑍 − 𝔼[𝑍] ≥ 𝜖) ≤ 𝐶1\n",
    "𝑒\n",
    "−𝐶2𝑛𝜖2\n",
    "∧ 𝐶3\n",
    "𝑒\n",
    "−𝐶4𝑛(𝜖+1)\n",
    ".\n",
    "1. The empirical mean of i.i.d. sub-Gaussian random variables?\n",
    "2. The empirical mean of i.i.d. sub-Exponential random variables?\n",
    "3. The empirical mean of i.i.d. random variables with finite variance?\n",
    "4. The empirical variance of i.i.d. random variables with finite variance?\n",
    "5. The empirical variance of i.i.d. sub-Gaussian random variables?\n",
    "6. The empirical variance of i.i.d. sub-Exponential random variables?\n",
    "7. The empirical third moment of i.i.d. sub-Gaussian random variables?\n",
    "8. The empirical fourth moment of i.i.d. sub-Gaussian random variables?\n",
    "9. The empirical mean of i.i.d. deterministic random variables?\n",
    "10. The empirical tenth moment of i.i.d. Bernoulli random variables?\n",
    "2. Which of the above will concentrate in the weaker sense, that for some 𝐶1\n",
    "𝑃 (𝑍 − 𝔼[𝑍] ≥ 𝜖) ≤ 𝐶1\n",
    "𝑛𝜖2\n",
    "?"
   ]
  },
  {
   "cell_type": "code",
   "execution_count": null,
   "metadata": {},
   "outputs": [],
   "source": [
    "# Answers to part 1, which of the alternatives exponentially concentrate,␣\n",
    "# answer as a list\n",
    "# i.e. [1,4,5] that is example 1, 4, and 5 concentrate\n",
    "problem3_answer_1 = [XXX]"
   ]
  },
  {
   "cell_type": "code",
   "execution_count": null,
   "metadata": {},
   "outputs": [],
   "source": [
    "# Answers to part 2, which of the alternatives concentrate in the weaker sense,␣\n",
    "# answer as a list\n",
    "# i.e. [1,4,5] that is example 1, 4, and 5 concentrate\n",
    "problem3_answer_2 = [XXX]"
   ]
  },
  {
   "cell_type": "markdown",
   "metadata": {},
   "source": [
    "1.12 Exam vB, PROBLEM 4\n",
    "Maximum Points = 8\n",
    "1.13 SMS spam filtering [8p]\n",
    "In the following problem we will explore SMS spam texts. The dataset is the SMS Spam Collection\n",
    "Dataset and we have provided for you a way to load the data. If you run the appropriate cell\n",
    "below, the result will be in the spam_no_spam variable. The result is a list of tuples with the\n",
    "first position in the tuple being the SMS text and the second being a flag 0 = not spam and 1 =\n",
    "spam.\n",
    "1. [3p] Let 𝑋 be the random variable that represents each SMS text (an entry in the list), and\n",
    "let 𝑌 represent whether text is spam or not i.e. 𝑌 ∈ {0, 1}. Thus ℙ(𝑌 = 1) is the probability\n",
    "that we get a spam. The goal is to estimate:\n",
    "ℙ(𝑌 = 1|”free” or ”prize” is in 𝑋) .\n",
    "That is, the probability that the SMS is spam given that “free” or “prize” occurs in the SMS.\n",
    "Hint: it is good to remove the upper/lower case of words so that we can also find “Free” and\n",
    "“Prize”; this can be done with text.lower() if text a string.\n",
    "2. [3p] Provide a “90%” interval of confidence around the true probability. I.e. use the Hoeffding\n",
    "inequality to obtain for your estimate 𝑃̂ of the above quantity. Find 𝑙 > 0 such that the\n",
    "following holds:\n",
    "ℙ(𝑃 − 𝑙 ≤ 𝔼[ ̂ 𝑃 ] ≤̂ 𝑃 + 𝑙) ≥ 0.9 . ̂\n",
    "3. [2p] Repeat the two exercises above for “free” appearing twice in the SMS.\n"
   ]
  },
  {
   "cell_type": "code",
   "execution_count": null,
   "metadata": {},
   "outputs": [],
   "source": [
    " # Run this cell to get the SMS text data\n",
    "from exam_extras import load_sms\n",
    "spam_no_spam = load_sms()"
   ]
  },
  {
   "cell_type": "code",
   "execution_count": null,
   "metadata": {},
   "outputs": [],
   "source": [
    "# fill in the estimate for part 1 here (should be a number between 0 and 1)\n",
    "problem4_hatP = XXX"
   ]
  },
  {
   "cell_type": "code",
   "execution_count": null,
   "metadata": {},
   "outputs": [],
   "source": [
    "# fill in the calculated l from part 2 here\n",
    "problem4_l = XXX"
   ]
  },
  {
   "cell_type": "code",
   "execution_count": null,
   "metadata": {},
   "outputs": [],
   "source": [
    "# fill in the estimate for hatP for the double free question in part 3 here␣\n",
    "# (should be a number between 0 and 1)\n",
    "problem4_hatP2 = XXX"
   ]
  },
  {
   "cell_type": "code",
   "execution_count": null,
   "metadata": {},
   "outputs": [],
   "source": [
    "# fill in the estimate for l for the double free question in part 3 here\n",
    "problem4_l2 = XXX"
   ]
  },
  {
   "cell_type": "markdown",
   "metadata": {},
   "source": [
    "1.14 Exam vB, PROBLEM 5\n",
    "Maximum Points = 8\n",
    "1.15 Markovian travel\n",
    "The dataset Travel Dataset - Datathon 2019 is a simulated dataset designed to mimic real\n",
    "corporate travel systems – focusing on flights and hotels. The file is at data/flights.csv in the\n",
    "same folder as Exam.ipynb, i.e. you can use the path data/flights.csv from the notebook to\n",
    "access the file.\n",
    "1. [2p] In the first code-box\n",
    "1. Load the csv from file data/flights.csv\n",
    "2. Fill in the value of the variables as specified by their names.\n",
    "2. [2p] In the second code-box your goal is to estimate a Markov chain transition matrix for\n",
    "the travels of these users. For example, if we enumerate the cities according to alphabetical\n",
    "order, the first city 'Aracaju (SE)' would correspond to 0. Each row of the file corresponds\n",
    "to one flight, i.e. it has a starting city and an ending city. We model this as a stationary\n",
    "Markov chain, i.e. each user’s travel trajectory is a realization of the Markov chain, 𝑋𝑡\n",
    ". Here,\n",
    "𝑋𝑡\n",
    "is the current city the user is at, at step 𝑡, and 𝑋𝑡+1 is the city the user travels to at\n",
    "the next time step. This means that to each row in the file there is a corresponding pair\n",
    "(𝑋𝑡\n",
    ", 𝑋𝑡+1). The stationarity assumption gives that for all 𝑡 there is a transition density 𝑝\n",
    "such that 𝑃 (𝑋𝑡+1 = 𝑦|𝑋𝑡 = 𝑥) = 𝑝(𝑥, 𝑦) (for all 𝑥, 𝑦). The transition matrix should be\n",
    "n_cities x n_citites in size.\n",
    "3. [2p] Use the transition matrix to compute out the stationary distribution.\n",
    "4. [2p] Given that we start in ‘Aracaju (SE)’ what is the probability that after 3 steps we will\n",
    "be back in ‘Aracaju (SE)’?"
   ]
  },
  {
   "cell_type": "code",
   "execution_count": null,
   "metadata": {},
   "outputs": [],
   "source": [
    "number_of_cities = XXX\n",
    "number_of_userCodes = XXX\n",
    "number_of_observations = XXX"
   ]
  },
  {
   "cell_type": "code",
   "execution_count": null,
   "metadata": {},
   "outputs": [],
   "source": [
    "# This is a very useful function that you can use for part 2. You have seen␣\n",
    "# this before when parsing the\n"
   ]
  },
  {
   "cell_type": "code",
   "execution_count": null,
   "metadata": {},
   "outputs": [],
   "source": [
    "# pride and prejudice book.\n",
    "def makeFreqDict(myDataList):\n",
    "    '''Make a frequency mapping out of a list of data.\n",
    "    Param myDataList, a list of data.\n",
    "    Return a dictionary mapping each unique data value to its frequency count. '''\n",
    "    freqDict = {} # start with an empty dictionary\n",
    "    for res in myDataList:\n",
    "        if res in freqDict: # the data value already exists as a key\n",
    "            freqDict[res] = freqDict[res] + 1 # add 1 to the count using␣ sage integers\n",
    "        else: # the data value does not exist as a key value\n",
    "            freqDict[res] = 1 # add a new key-value pair for this new data␣ value, frequency 1\n",
    "    return freqDict # return the dictionary created"
   ]
  },
  {
   "cell_type": "code",
   "execution_count": null,
   "metadata": {},
   "outputs": [],
   "source": [
    "cities = XXX\n",
    "unique_cities = sorted(set(cities)) # The unique cities\n",
    "n_cities = len(unique_cities) # The number of unique citites\n",
    "# Count the different transitions\n",
    "transitions = XXX # A list containing tuples ex: ('Aracaju (SE)','Rio de␣Janeiro (RJ)') of all transitions in the text\n",
    "transition_counts = XXX # A dictionary that counts the number of each␣transition\n",
    "# ex: ('Aracaju (SE)','Rio de Janeiro (RJ)'):4\n",
    "indexToCity = XXX # A dictionary that maps the n-1 number to the n:th␣unique_city,\n",
    "# ex: 0:'Aracaju (SE)'\n",
    "cityToIndex = XXX # The inverse function of indexToWord,\n",
    "# ex: 'Aracaju (SE)':0\n",
    "# Part 3, finding the maximum likelihood estimate of the transition matrix\n",
    "transition_matrix = XXX # a numpy array of size (n_cities,n_cities)\n",
    "# The transition matrix should be ordered in such a way that\n",
    "# p_{'Aracaju (SE)','Rio de Janeiro (RJ)'} =␣transition_matrix[cityToIndex['Aracaju (SE)'],cityToIndex['Rio de Janeiro␣(RJ)']]\n",
    "# and represents the probability of travelling Aracaju (SE)->Rio de Janeiro (RJ)\n",
    "# Make sure that the transition_matrix does not contain np.nan from division by␣ zero for instance"
   ]
  },
  {
   "cell_type": "code",
   "execution_count": null,
   "metadata": {},
   "outputs": [],
   "source": [
    "# This should be a numpy array of length n_cities which sums to 1 and is all␣ positive\n",
    "stationary_distribution_problem5 = XXX"
   ]
  },
  {
   "cell_type": "code",
   "execution_count": null,
   "metadata": {},
   "outputs": [],
   "source": [
    " # Compute the return probability for part 3 of problem 5\n",
    "return_probability_problem5 = XXX"
   ]
  },
  {
   "cell_type": "markdown",
   "metadata": {},
   "source": [
    "Local Test for Exam vB, PROBLEM 5 Evaluate cell below to make sure your answer is\n",
    "valid. You should not modify anything in the cell below when evaluating it to do a local test of\n",
    "your solution. You may need to include and evaluate code snippets from lecture notebooks in cells\n",
    "above to make the local test work correctly sometimes (see error messages for clues). This is meant\n",
    "to help you become efficient at recalling materials covered in lectures that relate to this problem.\n",
    "Such local tests will generally not be available in the exam."
   ]
  },
  {
   "cell_type": "code",
   "execution_count": null,
   "metadata": {},
   "outputs": [],
   "source": [
    "# Once you have created all your functions, you can make a small test here to␣ see\n",
    "# what would be generated from your model.\n",
    "import numpy as np\n",
    "start = np.zeros(shape=(n_cities,1))\n",
    "start[cityToIndex['Aracaju (SE)'],0] = 1\n",
    "\n",
    "current_pos = start\n",
    "for i in range(10):\n",
    "    random_word_index = np.random.choice(range(n_cities),p=current_pos.\n",
    "reshape(-1))\n",
    "    current_pos = np.zeros_like(start)\n",
    "    current_pos[random_word_index] = 1\n",
    "    print(indexToCity[random_word_index],end='->')\n",
    "    current_pos = (current_pos.T@transition_matrix).T"
   ]
  },
  {
   "cell_type": "markdown",
   "metadata": {},
   "source": [
    "1.16 Exam vB, PROBLEM 6\n",
    "Maximum Points = 8\n",
    "1.17 Black box testing\n",
    "In the following problem we will continue with our SMS spam / nospam data. This time we will\n",
    "try to approach the problem as a pattern recognition problem. For this particular problem I have provided you with everything – data is prepared, split into train-test sets and a black-box model\n",
    "has been fitted on the training data and predicted on the test data. Your goal is to calculate test\n",
    "metrics and provide guarantees for each metric.\n",
    "1. [2p] Compute precision for class 1 (see notes 8.3.2 for definition), then provide an interval\n",
    "using Hoeffding’s inequality for a 95% confidence.\n",
    "2. [2p] Compute recall for class 1(see notes 8.3.2 for definition), then provide an interval using\n",
    "Hoeffding’s inequality for a 95% interval.\n",
    "3. [2p] Compute accuracy (0-1 loss), then provide an interval using Hoeffding’s inequality for a\n",
    "95% interval.\n",
    "4. [2p] If we would have used a classifier with VC-dimension 3, would we have obtained a smaller\n",
    "interval for accuracy by using all data?"
   ]
  },
  {
   "cell_type": "code",
   "execution_count": null,
   "metadata": {},
   "outputs": [],
   "source": [
    "# The code below will load data, split the data into train and test and run a␣\"black box\" algorithm on it\n",
    "# the result of the \"black box\" is stored in predictions_problem6, the true␣ values will be stored in\n",
    "# Y_test_problem6\n",
    "import exam_extras\n",
    "from exam_extras import load_sms_problem6\n",
    "X_problem6, Y_problem6 = load_sms_problem6()\n",
    "X_train_problem6,X_test_problem6,Y_train_problem6,Y_test_problem6 = exam_extras.\n",
    "    train_test_split(X_problem6,Y_problem6)\n",
    "predictions_problem6 = exam_extras.\n",
    "    knn_predictions(X_train_problem6,Y_train_problem6,X_test_problem6,k=4)\n"
   ]
  },
  {
   "cell_type": "code",
   "execution_count": null,
   "metadata": {},
   "outputs": [],
   "source": [
    "# Compute the precision of predictions_problem6 with respect to Y_test_problem6\n",
    "problem6_precision = XXX"
   ]
  },
  {
   "cell_type": "code",
   "execution_count": null,
   "metadata": {},
   "outputs": [],
   "source": [
    " #Compute the interval length l of precision of predictions_problem6 with␣ respect to Y_test_problem6, with the same definition of l as in problem 4\n",
    "problem6_precision_l = XXX"
   ]
  },
  {
   "cell_type": "code",
   "execution_count": null,
   "metadata": {},
   "outputs": [],
   "source": [
    "# Repeat the same procedure but for recall\n",
    "problem6_recall = XX"
   ]
  },
  {
   "cell_type": "code",
   "execution_count": null,
   "metadata": {},
   "outputs": [],
   "source": [
    "problem6_recall_l = XXX\n"
   ]
  },
  {
   "cell_type": "code",
   "execution_count": null,
   "metadata": {},
   "outputs": [],
   "source": [
    " # Repeat the same procedure but for accuracy or 0-1 loss\n",
    "problem6_accuracy = XXX\n"
   ]
  },
  {
   "cell_type": "code",
   "execution_count": null,
   "metadata": {},
   "outputs": [],
   "source": [
    "problem6_accuracy_l = XXX\n"
   ]
  },
  {
   "cell_type": "code",
   "execution_count": null,
   "metadata": {},
   "outputs": [],
   "source": [
    "# Below you will calculate the interval parameter l for a classifier running on␣all data with a VC dimension of 3\n",
    "# put the value in problem6_VC_l and answer problem_VC_smaller as True if the␣interval is smaller than the test-accuracy above10\n",
    "# if not answer False. Make sure you replace XXX with something even if you␣ only answer one of them.\n",
    "problem6_VC_l = XXX # number\n",
    "problem6_VC_smaller = XXX #True / False"
   ]
  }
 ],
 "metadata": {
  "kernelspec": {
   "display_name": "base",
   "language": "python",
   "name": "python3"
  },
  "language_info": {
   "name": "python",
   "version": "3.11.5"
  }
 },
 "nbformat": 4,
 "nbformat_minor": 2
}
