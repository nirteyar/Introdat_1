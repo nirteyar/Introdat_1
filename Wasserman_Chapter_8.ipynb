{
  "nbformat": 4,
  "nbformat_minor": 0,
  "metadata": {
    "colab": {
      "name": "Wasserman_Chapter_8.ipynb",
      "provenance": [],
      "collapsed_sections": [],
      "authorship_tag": "ABX9TyMni8z2+aXQPFkFUWE2GQNI",
      "include_colab_link": true
    },
    "kernelspec": {
      "name": "python3",
      "display_name": "Python 3"
    },
    "language_info": {
      "name": "python"
    }
  },
  "cells": [
    {
      "cell_type": "markdown",
      "metadata": {
        "id": "view-in-github",
        "colab_type": "text"
      },
      "source": [
        "<a href=\"https://colab.research.google.com/github/sajad13901/Statistics_Wasserman/blob/main/Wasserman_Chapter_8.ipynb\" target=\"_parent\"><img src=\"https://colab.research.google.com/assets/colab-badge.svg\" alt=\"Open In Colab\"/></a>"
      ]
    },
    {
      "cell_type": "code",
      "execution_count": 144,
      "metadata": {
        "id": "5EuHOEDDemoj",
        "outputId": "8e055624-3358-47ad-9704-ee99f4bfce32",
        "colab": {
          "base_uri": "https://localhost:8080/"
        }
      },
      "outputs": [
        {
          "output_type": "stream",
          "name": "stdout",
          "text": [
            "data size: 799\n",
            "skew_hat: 1.76\n",
            "skew_hat variance: 0.16\n"
          ]
        }
      ],
      "source": [
        "# Chapter 8, nerve data, Example 8.2\n",
        "from google.colab import files\n",
        "import numpy as np\n",
        "import pandas as pd\n",
        "from scipy.stats import norm\n",
        "\n",
        "# uploaded = files.upload()\n",
        "df = pd.read_csv('https://raw.githubusercontent.com/sajad13901/Statistics_Wasserman/main/nerve.txt', delimiter= '\\s+', index_col=False)\n",
        "data = df.waiting_time\n",
        "n, mu, sigma = data.size, data.mean(), data.std()\n",
        "\n",
        "def calc_skew(data):\n",
        "    n, mu, sigma = data.size, data.mean(), data.std()\n",
        "    tmp = 0;\n",
        "    for element in data: tmp += (element - mu)**3\n",
        "    return tmp/(n * sigma**3)\n",
        "\n",
        "# use bootstrap to calc variance\n",
        "skew_boot = []\n",
        "B = 1000\n",
        "for _ in range(B):\n",
        "    tmp_data = np.random.choice(data, size=n, replace=True)\n",
        "    skew_boot.append(calc_skew(tmp_data))\n",
        "\n",
        "print('data size:', n)\n",
        "print('skew_hat:', round(calc_skew(data),2))\n",
        "print('skew_hat variance:', round(np.std(skew_boot),2))\n"
      ]
    },
    {
      "cell_type": "code",
      "source": [
        "# Chapter 8, problem 1\n",
        "import numpy as np\n",
        "from scipy.stats import norm\n",
        "\n",
        "LSAT = np.array([576,   635,  558,  578,  666,  580,  555,  661,  651,  605,  653,  575,  545,  572,  594])\n",
        "GPA  = np.array([3.39, 3.30, 2.81, 3.03, 3.44, 3.07, 3.00, 3.43, 3.36, 3.13, 3.12, 2.74, 2.76, 2.88, 3.96])\n",
        "\n",
        "def corr(X, Y):\n",
        "    mu_x = X.mean()\n",
        "    mu_y = Y.mean()\n",
        "    return sum((X - mu_x) * (Y - mu_y)) / (sum((X - mu_x)**2) * sum((Y - mu_y)**2))**0.5\n",
        "  \n",
        "theta_hat = corr(LSAT, GPA)    \n",
        "print('estimated theta hat: %.4f' %theta_hat)\n",
        "\n",
        "# bootstrap to calc variance of theta_hat\n",
        "n = GPA.size\n",
        "B = int(1e3)\n",
        "theta_boot = []\n",
        "idx_vec = list(range(n))\n",
        "for _ in range(B):\n",
        "    sel_idx = np.random.choice(idx_vec, size=n, replace=True)\n",
        "    sel_gpa = np.take(GPA, sel_idx)\n",
        "    sel_lsat = np.take(LSAT, sel_idx)\n",
        "    theta_boot.append(corr(sel_lsat, sel_gpa))\n",
        "se_hat = np.std(theta_boot)\n",
        "print('bootstrap standard error: %.4f' %se_hat)\n",
        "\n",
        "z_95 = norm.ppf(.975)\n",
        "print('95%% interval Normal method: (%.2f, %.2f)' %(theta_hat-z_95*se_hat, theta_hat+z_95*se_hat))\n",
        "\n",
        "boot_quant_1 = np.quantile(theta_boot, .05/2)\n",
        "boot_quant_2 = np.quantile(theta_boot, 1-.05/2)\n",
        "print('95%% interval Pivotal method: (%.2f, %.2f)' %(2*theta_hat-boot_quant_2, 2*theta_hat-boot_quant_1))\n",
        "\n",
        "print('95%% interval Percentile method: (%.2f, %.2f)' %(boot_quant_1, boot_quant_2))"
      ],
      "metadata": {
        "id": "O5gs4plTjsLf",
        "colab": {
          "base_uri": "https://localhost:8080/"
        },
        "outputId": "ddc5fd28-f963-4b84-fcec-7f830b15d361"
      },
      "execution_count": 141,
      "outputs": [
        {
          "output_type": "stream",
          "name": "stdout",
          "text": [
            "estimated theta hat: 0.5459\n",
            "bootstrap standard error: 0.1938\n",
            "95% interval Normal method: (0.17, 0.93)\n",
            "95% interval Pivotal method: (0.16, 0.86)\n",
            "95% interval Percentile method: (0.23, 0.93)\n"
          ]
        }
      ]
    },
    {
      "cell_type": "code",
      "source": [
        "# Chapter 8, problem 2\n",
        "import numpy as np\n",
        "from scipy.stats import norm\n",
        "\n",
        "n = 50\n",
        "y = np.random.normal(0, 1, n)\n",
        "x = np.exp(y)\n",
        "\n",
        "def calc_skew(data):\n",
        "    n, mu, sigma = data.size, data.mean(), data.std()\n",
        "    tmp = 0;\n",
        "    for element in data: tmp += (element - mu)**3\n",
        "    return tmp/(n * sigma**3)\n",
        "\n",
        "t_hat = calc_skew(x)\n",
        "\n",
        "t_boot = []\n",
        "B = 10000\n",
        "for _ in range(B):\n",
        "  sel_data = np.random.choice(x, size=n, replace=True)\n",
        "  t_boot.append(calc_skew(sel_data))\n",
        "\n",
        "se_hat = np.std(t_boot)\n",
        "print('bootstrap standard error: %.4f' %se_hat)\n",
        "\n",
        "z_95 = norm.ppf(.975)\n",
        "print('95%% interval Normal method: (%.2f, %.2f)' %(t_hat-z_95*se_hat, t_hat+z_95*se_hat))\n",
        "\n",
        "boot_quant_1 = np.quantile(t_boot, .05/2)\n",
        "boot_quant_2 = np.quantile(t_boot, 1-.05/2)\n",
        "print('95%% interval Pivotal method: (%.2f, %.2f)' %(2*t_hat-boot_quant_2, 2*t_hat-boot_quant_1))\n",
        "print('95%% interval Percentile method: (%.2f, %.2f)' %(boot_quant_1, boot_quant_2))\n"
      ],
      "metadata": {
        "id": "msfhONQGjsSu",
        "colab": {
          "base_uri": "https://localhost:8080/"
        },
        "outputId": "a6e851c4-8a7f-48c9-993c-8497d7fe35c7"
      },
      "execution_count": 142,
      "outputs": [
        {
          "output_type": "stream",
          "name": "stdout",
          "text": [
            "bootstrap standard error: 1.1126\n",
            "95% interval Normal method: (1.95, 6.31)\n",
            "95% interval Pivotal method: (2.64, 7.13)\n",
            "95% interval Percentile method: (1.13, 5.62)\n"
          ]
        }
      ]
    },
    {
      "cell_type": "code",
      "source": [
        "# Chapter 8, problem 3\n",
        "import numpy as np\n",
        "from scipy.stats import norm\n",
        "from scipy.stats import t\n",
        "\n",
        "n = 25\n",
        "x = t.rvs(3, size=n)\n",
        "\n",
        "def T(x):\n",
        "    return (np.quantile(x, 0.75) - np.quantile(x, 0.25)) / 1.34\n",
        "\n",
        "B = 10000\n",
        "t_boot = np.empty(B)\n",
        "for i in range(B):\n",
        "  sel_data = np.random.choice(x, size=n, replace=True)\n",
        "  t_boot[i] = T(sel_data)\n",
        "\n",
        "alpha = 0.05\n",
        "t_hat = T(x)\n",
        "se_hat = np.std(t_boot)\n",
        "z_alpha = norm.ppf(1 - alpha/2)\n",
        "boot_quant_1 = np.quantile(t_boot, alpha/2)\n",
        "boot_quant_2 = np.quantile(t_boot, 1 - alpha/2)\n",
        "print('95%% interval Normal method: (%.2f, %.2f)' %(t_hat-z_alpha*se_hat, t_hat+z_alpha*se_hat))\n",
        "print('95%% interval Pivotal method: (%.2f, %.2f)' %(2*t_hat-boot_quant_2, 2*t_hat-boot_quant_1))\n",
        "print('95%% interval Percentile method: (%.2f, %.2f)' %(boot_quant_1, boot_quant_2))\n"
      ],
      "metadata": {
        "id": "Y4vJWdJMZpQe",
        "colab": {
          "base_uri": "https://localhost:8080/"
        },
        "outputId": "b48659d4-4431-4a2a-c90a-77ad6f6ada50"
      },
      "execution_count": 156,
      "outputs": [
        {
          "output_type": "stream",
          "name": "stdout",
          "text": [
            "95% interval Normal method: (0.52, 1.42)\n",
            "95% interval Pivotal method: (0.53, 1.46)\n",
            "95% interval Percentile method: (0.49, 1.42)\n"
          ]
        }
      ]
    },
    {
      "cell_type": "code",
      "source": [
        "# Chapter 8, problem 6\n",
        "import numpy as np\n",
        "from scipy.stats import norm\n",
        "import matplotlib.pyplot as plt\n",
        "\n",
        "mu = 5\n",
        "n = 1000\n",
        "x = np.random.normal(mu, 1, n)\n",
        "\n",
        "B = 10000\n",
        "t_boot = np.empty(B)\n",
        "for i in range(B):\n",
        "  sel_data = np.random.choice(x, size=n, replace=True)\n",
        "  t_boot[i] = np.exp(sel_data.mean())\n",
        "\n",
        "t_hat = np.exp(x.mean())\n",
        "se_hat = np.std(t_boot)\n",
        "z_alpha = norm.ppf(1 - 0.05/2)\n",
        "print('95%% interval Normal method: (%.2f, %.2f)' %(t_hat-z_alpha*se_hat, t_hat+z_alpha*se_hat))\n",
        "\n",
        "# true ditribution of theta_hat = (1/y) * f_x_bar(log(y)) , f_x_bar = Norm(mu, var_x/n)  \n",
        "def norm_dist(y, mu, var):\n",
        "  return np.exp(-(y-mu)**2/(2*var))/(var*2*np.pi)**0.5\n",
        "\n",
        "y = np.linspace(100, 200, 500)\n",
        "f_y = (1/y) * norm_dist(np.log(y), mu, 1/n)\n",
        "\n",
        "plt.hist(t_boot, 100, density=True, label='bootstrap dist')\n",
        "plt.plot(y, f_y, lw=4, label='true distribution')\n",
        "plt.legend(loc='upper right')\n",
        "plt.show()\n"
      ],
      "metadata": {
        "id": "nwpGL5lVV5L5",
        "colab": {
          "base_uri": "https://localhost:8080/",
          "height": 282
        },
        "outputId": "d35bc51c-ce09-48a7-bd7f-164937da4327"
      },
      "execution_count": 199,
      "outputs": [
        {
          "output_type": "stream",
          "name": "stdout",
          "text": [
            "95% interval Normal method: (137.46, 156.01)\n"
          ]
        },
        {
          "output_type": "display_data",
          "data": {
            "image/png": "[encoded data removed]",
            "text/plain": [
              "<Figure size 432x288 with 1 Axes>"
            ]
          },
          "metadata": {
            "needs_background": "light"
          }
        }
      ]
    },
    {
      "cell_type": "code",
      "source": [
        "# Chapter 8, problem 7, part a\n",
        "import numpy as np\n",
        "from scipy.stats import norm\n",
        "import matplotlib.pyplot as plt\n",
        "\n",
        "n = 50\n",
        "theta = 1\n",
        "x = np.random.uniform(0, theta, n)\n",
        "\n",
        "B = 10000\n",
        "t_boot = np.empty(B)\n",
        "for i in range(B):\n",
        "  sel_data = np.random.choice(x, size=n, replace=True)\n",
        "  t_boot[i] = np.max(sel_data)\n",
        "\n",
        "# true ditribution of theta_hat, find in Q2 of chapter 6 \n",
        "y = np.linspace(0.1, theta, 100)\n",
        "f_y = (n/theta**n) * y**(n-1) \n",
        "\n",
        "plt.hist(t_boot, 10, density=True, label='bootstrap dist')\n",
        "plt.plot(y, f_y, lw=2, label='true distribution')\n",
        "plt.legend(loc='upper left')\n",
        "plt.show()\n"
      ],
      "metadata": {
        "id": "cMx65jwfV5pe",
        "colab": {
          "base_uri": "https://localhost:8080/",
          "height": 265
        },
        "outputId": "2f081542-b370-46f1-99e0-8aaa21ce43fb"
      },
      "execution_count": 223,
      "outputs": [
        {
          "output_type": "display_data",
          "data": {
            "image/png": "[encoded data removed]",
            "text/plain": [
              "<Figure size 432x288 with 1 Axes>"
            ]
          },
          "metadata": {
            "needs_background": "light"
          }
        }
      ]
    }
  ]
}